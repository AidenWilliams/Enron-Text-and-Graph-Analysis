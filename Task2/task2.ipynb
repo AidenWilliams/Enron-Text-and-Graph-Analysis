{
 "cells": [
  {
   "cell_type": "markdown",
   "metadata": {
    "collapsed": true,
    "pycharm": {
     "name": "#%% md\n"
    }
   },
   "source": [
    "blablabla"
   ]
  },
  {
   "cell_type": "code",
   "execution_count": 1,
   "outputs": [],
   "source": [
    "# import the libraries used\n",
    "import os\n",
    "from email.parser import Parser\n",
    "from tqdm import tqdm\n",
    "import json\n",
    "import networkx as nx\n",
    "import matplotlib.pyplot as plt\n",
    "import path_calculator as pc\n",
    "# set root directory of dataset\n",
    "dataroot = os.path.join('..', 'EnronEmails_Filtered', 'maildir')"
   ],
   "metadata": {
    "collapsed": false,
    "pycharm": {
     "name": "#%%\n"
    }
   }
  },
  {
   "cell_type": "code",
   "execution_count": 2,
   "outputs": [],
   "source": [
    "def splitEmails(maillist: str, tag):\n",
    "    \"\"\"\n",
    "    Splits email of type tag [to,cc,bcc] addresses from maillist\n",
    "    :param maillist: email with lists of addresses\n",
    "    :param tag: tag specified to split from\n",
    "    :return: list of split emails, Duplicates are included\n",
    "    \"\"\"\n",
    "    split = maillist[tag]\n",
    "    split = split.replace(\"\\n\", \"\")\n",
    "    split = split.replace(\"\\t\", \"\")\n",
    "    split = split.replace(\" \", \"\")\n",
    "    return split.split(',')"
   ],
   "metadata": {
    "collapsed": false,
    "pycharm": {
     "name": "#%%\n"
    }
   }
  },
  {
   "cell_type": "code",
   "execution_count": 3,
   "outputs": [],
   "source": [
    "def readMail(email):\n",
    "    \"\"\"\n",
    "    converts python email object into dict of dicts as written:\n",
    "        {subject: \"\", text: \"\", tos: [], ccs: [], bccs: []}\n",
    "    between all duplicates that existed in tos,ccs and bccs, are removed\n",
    "    :param email: email being read\n",
    "    :return: returns dict of dicts {subject: \"\", text: \"\", tos: [], cc: [], bcc: []}\n",
    "    \"\"\"\n",
    "    update = {'subject': email['subject'], 'text': email.get_payload(), 'tos': [], 'ccs': [], 'bccs': []}\n",
    "    if email['to']:\n",
    "        update['tos'] = list(set(splitEmails(email, 'to')))\n",
    "    if email['cc']:\n",
    "        update['ccs'] = list(set(splitEmails(email, 'cc')))\n",
    "        # This for if is O(n^2) it slows the parsing by a bit but it does remove duplicates in cc and bcc\n",
    "        # Still takes around a minute\n",
    "        for a in update['ccs']:\n",
    "            if a in update['tos']:\n",
    "                update['ccs'].remove(a)\n",
    "    if email['bcc']:\n",
    "        update['bccs'] = list(set(splitEmails(email, 'bcc')))\n",
    "        for a in update['bccs']:\n",
    "            if a in update['ccs']:\n",
    "                update['bccs'].remove(a)\n",
    "    return update"
   ],
   "metadata": {
    "collapsed": false,
    "pycharm": {
     "name": "#%%\n"
    }
   }
  },
  {
   "cell_type": "code",
   "execution_count": 4,
   "outputs": [],
   "source": [
    "def addMail(dic, emailDir):\n",
    "    \"\"\"\n",
    "    Add email from emailDir(a MIME file) into dic\n",
    "    :param dic: dict to add email to\n",
    "    :param emailDir: file from which the email are being read\n",
    "    :return: updated dic\n",
    "    \"\"\"\n",
    "    with open(emailDir, \"r\", encoding='utf-8', errors='ignore') as f:\n",
    "        email = Parser().parsestr(f.read())\n",
    "        key = email['from']\n",
    "        if key in dic:\n",
    "            value = dic.get(email['from'])\n",
    "            value.append(readMail(email))\n",
    "            dic.update({key: value})\n",
    "        else:\n",
    "            value = [readMail(email)]\n",
    "            dic.update({key: value})"
   ],
   "metadata": {
    "collapsed": false,
    "pycharm": {
     "name": "#%%\n"
    }
   }
  },
  {
   "cell_type": "code",
   "execution_count": 5,
   "outputs": [],
   "source": [
    "def addAll(dic, emailDir):\n",
    "    \"\"\"\n",
    "    add all emails in emailDir(MIME file or directory) into dic\n",
    "    :param dic: dict to add emails to\n",
    "    :param emailDir: (MIME file or directory) from which the emails are being read\n",
    "    :return: updated dic\n",
    "    \"\"\"\n",
    "    if not os.path.isfile(emailDir):\n",
    "        for file in os.listdir(emailDir):\n",
    "            addAll(dic, os.path.join(emailDir, file))\n",
    "    else:\n",
    "        addMail(dic, emailDir)"
   ],
   "metadata": {
    "collapsed": false,
    "pycharm": {
     "name": "#%%\n"
    }
   }
  },
  {
   "cell_type": "code",
   "execution_count": 6,
   "outputs": [],
   "source": [
    "def loadData(dic, root):\n",
    "    \"\"\"\n",
    "    loads data from root into dic, tqdm progress bar indicates progress\n",
    "    :param dic: dictionary that will be loaded with emails\n",
    "    :param root: root directory\n",
    "    :return: dic filled with data from root\n",
    "    \"\"\"\n",
    "    for user in tqdm(os.listdir(root)):\n",
    "        userPath = os.path.join(root, user)\n",
    "        for folder in os.listdir(userPath):\n",
    "            folderPath = os.path.join(root, user, folder)\n",
    "            if os.path.isfile(folderPath):\n",
    "                addMail(dic, folderPath)\n",
    "                continue\n",
    "\n",
    "            for file in os.listdir(folderPath):\n",
    "                addAll(dic, os.path.join(dataroot, user, folder, file))"
   ],
   "metadata": {
    "collapsed": false,
    "pycharm": {
     "name": "#%%\n"
    }
   }
  },
  {
   "cell_type": "code",
   "execution_count": 7,
   "outputs": [],
   "source": [
    "def _saveToFile(data, path):\n",
    "    \"\"\"\n",
    "    ethan code ethan code\n",
    "    :param data:\n",
    "    :param path:\n",
    "    :return:\n",
    "    \"\"\"\n",
    "    print('Saving')\n",
    "    with open(path, 'w') as fp:\n",
    "        json.dump(data, fp, indent=4)"
   ],
   "metadata": {
    "collapsed": false,
    "pycharm": {
     "name": "#%%\n"
    }
   }
  },
  {
   "cell_type": "code",
   "execution_count": 8,
   "outputs": [],
   "source": [
    "class Edge:\n",
    "    \"\"\"\n",
    "    Simple edge class that represents and edge with weight between 2 aliases\n",
    "    \"\"\"\n",
    "    def __init__(self, alias1: str, alias2: str, weight=0):\n",
    "        self.alias1 = alias1\n",
    "        self.alias2 = alias2\n",
    "        self.weight = weight"
   ],
   "metadata": {
    "collapsed": false,
    "pycharm": {
     "name": "#%%\n"
    }
   }
  },
  {
   "cell_type": "code",
   "execution_count": 9,
   "outputs": [],
   "source": [
    "edges = {}\n",
    "def addEdgeToDict(frm, to):\n",
    "    \"\"\"\n",
    "    Adds edge from -> to to dictionary, incrementing weight if the tuple(frm, to) already exists in edges\n",
    "    :param frm: from user\n",
    "    :param to: to user\n",
    "    :return: dictionary of edges key=tuple(frm,to):value=weight\n",
    "    \"\"\"\n",
    "    key = tuple([frm, to])\n",
    "    if key in edges:\n",
    "        w = edges.get(key)\n",
    "        w += 1\n",
    "        edges[key] = w\n",
    "    else:\n",
    "        edges.update({key: 1})"
   ],
   "metadata": {
    "collapsed": false,
    "pycharm": {
     "name": "#%%\n"
    }
   }
  },
  {
   "cell_type": "markdown",
   "source": [
    "load the intermediary file into myDict to avoid parsing through dataset each time\n",
    "or if not created, create the intermediary file"
   ],
   "metadata": {
    "collapsed": false,
    "pycharm": {
     "name": "#%% md\n"
    }
   }
  },
  {
   "cell_type": "code",
   "execution_count": 10,
   "outputs": [
    {
     "name": "stdout",
     "output_type": "stream",
     "text": [
      "Docs file found!\n",
      "Reading...\n",
      "...done!\n"
     ]
    }
   ],
   "source": [
    "myDict = {}\n",
    "path = \"../intermediary/file.json\"\n",
    "if os.path.isfile(path) and os.access(path, os.R_OK):\n",
    "    print(\"Docs file found!\")\n",
    "    print('Reading...')\n",
    "    with open(path, 'r') as f:\n",
    "        myDict = json.load(f)\n",
    "    print(\"...done!\")\n",
    "\n",
    "else:\n",
    "    print(\"Either file is missing or is not readable, creating file...\")\n",
    "    loadData(myDict, dataroot)\n",
    "    _saveToFile(myDict, path=path)"
   ],
   "metadata": {
    "collapsed": false,
    "pycharm": {
     "name": "#%%\n"
    }
   }
  },
  {
   "cell_type": "markdown",
   "source": [
    "build networkx directed graph with edges"
   ],
   "metadata": {
    "collapsed": false,
    "pycharm": {
     "name": "#%% md\n"
    }
   }
  },
  {
   "cell_type": "code",
   "execution_count": 11,
   "outputs": [
    {
     "name": "stderr",
     "output_type": "stream",
     "text": [
      "100%|██████████| 15236/15236 [00:01<00:00, 11002.20it/s]\n",
      "100%|██████████| 316767/316767 [00:01<00:00, 185183.57it/s]\n"
     ]
    },
    {
     "name": "stdout",
     "output_type": "stream",
     "text": [
      "\n",
      "Building Edges\n",
      "\n",
      "Building Networkx\n",
      "\n",
      "Done.\n"
     ]
    }
   ],
   "source": [
    "dG = nx.DiGraph()\n",
    "G = nx.Graph()\n",
    "print(\"\\nBuilding Edges\")\n",
    "# weight dict\n",
    "for _from in tqdm(myDict):\n",
    "    emails = myDict.get(_from)\n",
    "    for e in emails:\n",
    "        for t in e['tos']:\n",
    "            addEdgeToDict(_from, t)\n",
    "        for c in e['ccs']:\n",
    "            addEdgeToDict(_from, c)\n",
    "        for b in e['bccs']:\n",
    "            addEdgeToDict(_from, b)\n",
    "\n",
    "print(\"\\nBuilding Networkx\")\n",
    "for edge in tqdm(edges.keys()):\n",
    "    dG.add_edge(edge[0], edge[1], weight=edges.get(edge))\n",
    "    G.add_edge(edge[0], edge[1], weight=edges.get(edge))\n",
    "\n",
    "print(\"\\nDone.\")"
   ],
   "metadata": {
    "collapsed": false,
    "pycharm": {
     "name": "#%%\n"
    }
   }
  },
  {
   "cell_type": "markdown",
   "source": [
    "### (a)Degree distribution:\n",
    "\n",
    "bla bla"
   ],
   "metadata": {
    "collapsed": false,
    "pycharm": {
     "name": "#%% md\n"
    }
   }
  },
  {
   "cell_type": "markdown",
   "source": [
    "#### Libraries Used\n",
    "* networkx - used to the node degree for all nodes\n",
    "* matplotlib - used to plot the histogram\n",
    "\n",
    "Below is some code that gathers the node degrees of each node in the graph G and represents them as a histogram.\n",
    "\n",
    "The node degree is the number of edges adjacent to the node.\n",
    "\n",
    "A number of histograms are drawn to better visualize the distribution. Each plot will have comments '''inline'''\n",
    "describing what the plot is visualizing."
   ],
   "metadata": {
    "collapsed": false,
    "pycharm": {
     "name": "#%% md\n"
    }
   }
  },
  {
   "cell_type": "markdown",
   "source": [
    "#### Undirected Degree Distribution"
   ],
   "metadata": {
    "collapsed": false,
    "pycharm": {
     "name": "#%% md\n"
    }
   }
  },
  {
   "cell_type": "code",
   "execution_count": 12,
   "outputs": [
    {
     "data": {
      "text/plain": "<Figure size 432x288 with 1 Axes>",
      "image/png": "[encoded data removed]"
     },
     "metadata": {
      "needs_background": "light"
     },
     "output_type": "display_data"
    }
   ],
   "source": [
    "'''\n",
    "The majority of nodes are connected less than 125 the node with the most connections reaches 1750.\n",
    "'''\n",
    "degrees = [G.degree(n) for n in G.nodes]\n",
    "plt.hist(degrees)\n",
    "plt.show()"
   ],
   "metadata": {
    "collapsed": false,
    "pycharm": {
     "name": "#%%\n"
    }
   }
  },
  {
   "cell_type": "code",
   "execution_count": 13,
   "outputs": [
    {
     "data": {
      "text/plain": "<Figure size 432x288 with 1 Axes>",
      "image/png": "[encoded data removed]"
     },
     "metadata": {
      "needs_background": "light"
     },
     "output_type": "display_data"
    }
   ],
   "source": [
    "'''\n",
    "From this histogram it is revealed that most nodes have a degree that is less than 20\n",
    "'''\n",
    "degrees = [G.degree(n) for n in G.nodes if G.degree(n) < 125]\n",
    "plt.hist(degrees)\n",
    "plt.show()"
   ],
   "metadata": {
    "collapsed": false,
    "pycharm": {
     "name": "#%%\n"
    }
   }
  },
  {
   "cell_type": "code",
   "execution_count": 14,
   "outputs": [
    {
     "data": {
      "text/plain": "<Figure size 432x288 with 1 Axes>",
      "image/png": "[encoded data removed]"
     },
     "metadata": {
      "needs_background": "light"
     },
     "output_type": "display_data"
    }
   ],
   "source": [
    "'''\n",
    "From this histogram it is revealed that most nodes have a degree of 2\n",
    "'''\n",
    "degrees = [G.degree(n) for n in G.nodes if G.degree(n) < 20]\n",
    "plt.hist(degrees)\n",
    "plt.show()"
   ],
   "metadata": {
    "collapsed": false,
    "pycharm": {
     "name": "#%%\n"
    }
   }
  },
  {
   "cell_type": "code",
   "execution_count": 15,
   "outputs": [
    {
     "name": "stdout",
     "output_type": "stream",
     "text": [
      "Nodes that have a degree more than 2:\n",
      "18498\n",
      "Total number of nodes:\n",
      "73025\n"
     ]
    }
   ],
   "source": [
    "nodes_more_than2 = len([G.degree(n) for n in G.nodes if G.degree(n) > 2])\n",
    "print(\"Nodes that have a degree more than 2:\")\n",
    "print(nodes_more_than2)\n",
    "print(\"Total number of nodes:\")\n",
    "print(len(G.nodes))"
   ],
   "metadata": {
    "collapsed": false,
    "pycharm": {
     "name": "#%%\n"
    }
   }
  },
  {
   "cell_type": "markdown",
   "source": [
    "#### In Degree Distribution"
   ],
   "metadata": {
    "collapsed": false
   }
  },
  {
   "cell_type": "code",
   "execution_count": 16,
   "outputs": [
    {
     "data": {
      "text/plain": "<Figure size 432x288 with 1 Axes>",
      "image/png": "[encoded data removed]"
     },
     "metadata": {
      "needs_background": "light"
     },
     "output_type": "display_data"
    }
   ],
   "source": [
    "'''\n",
    "The majority of nodes are connected less than 100 the node with the highest in degree reaches 800.\n",
    "'''\n",
    "degrees = [dG.in_degree(n) for n in dG.nodes]\n",
    "plt.hist(degrees)\n",
    "plt.show()"
   ],
   "metadata": {
    "collapsed": false,
    "pycharm": {
     "name": "#%%\n"
    }
   }
  },
  {
   "cell_type": "code",
   "execution_count": 17,
   "outputs": [
    {
     "data": {
      "text/plain": "<Figure size 432x288 with 1 Axes>",
      "image/png": "[encoded data removed]"
     },
     "metadata": {
      "needs_background": "light"
     },
     "output_type": "display_data"
    }
   ],
   "source": [
    "'''\n",
    "From this histogram it is revealed that most nodes have an in-degree that is less than 10\n",
    "'''\n",
    "degrees = [dG.in_degree(n) for n in dG.nodes if dG.in_degree(n) <  100]\n",
    "plt.hist(degrees)\n",
    "plt.show()"
   ],
   "metadata": {
    "collapsed": false,
    "pycharm": {
     "name": "#%%\n"
    }
   }
  },
  {
   "cell_type": "code",
   "execution_count": 18,
   "outputs": [
    {
     "data": {
      "text/plain": "<Figure size 432x288 with 1 Axes>",
      "image/png": "[encoded data removed]"
     },
     "metadata": {
      "needs_background": "light"
     },
     "output_type": "display_data"
    }
   ],
   "source": [
    "'''\n",
    "From this histogram it is revealed that most nodes have an in-degree of 2, also a significant number have an in-degree\n",
    "of 3\n",
    "'''\n",
    "degrees = [dG.in_degree(n) for n in dG.nodes if dG.in_degree(n) < 10]\n",
    "plt.hist(degrees)\n",
    "plt.show()"
   ],
   "metadata": {
    "collapsed": false,
    "pycharm": {
     "name": "#%%\n"
    }
   }
  },
  {
   "cell_type": "code",
   "execution_count": 19,
   "outputs": [
    {
     "name": "stdout",
     "output_type": "stream",
     "text": [
      "Nodes that have a degree more than 3:\n",
      "12371\n",
      "Total number of nodes:\n",
      "73025\n"
     ]
    }
   ],
   "source": [
    "nodes_more_than3 = len([dG.in_degree(n) for n in dG.nodes if dG.in_degree(n) > 3])\n",
    "print(\"Nodes that have a degree more than 3:\")\n",
    "print(nodes_more_than3)\n",
    "print(\"Total number of nodes:\")\n",
    "print(len(dG.nodes))"
   ],
   "metadata": {
    "collapsed": false,
    "pycharm": {
     "name": "#%%\n"
    }
   }
  },
  {
   "cell_type": "markdown",
   "source": [
    "#### Out Degree Distribution"
   ],
   "metadata": {
    "collapsed": false
   }
  },
  {
   "cell_type": "code",
   "execution_count": 20,
   "outputs": [
    {
     "data": {
      "text/plain": "<Figure size 432x288 with 1 Axes>",
      "image/png": "[encoded data removed]"
     },
     "metadata": {
      "needs_background": "light"
     },
     "output_type": "display_data"
    }
   ],
   "source": [
    "'''\n",
    "The majority of nodes have an out-degree less than 100 the node with the highest out degree of 1400.\n",
    "'''\n",
    "degrees = [dG.out_degree(n) for n in dG.nodes]\n",
    "plt.hist(degrees)\n",
    "plt.show()"
   ],
   "metadata": {
    "collapsed": false,
    "pycharm": {
     "name": "#%%\n"
    }
   }
  },
  {
   "cell_type": "code",
   "execution_count": 21,
   "outputs": [
    {
     "data": {
      "text/plain": "<Figure size 432x288 with 1 Axes>",
      "image/png": "[encoded data removed]"
     },
     "metadata": {
      "needs_background": "light"
     },
     "output_type": "display_data"
    }
   ],
   "source": [
    "'''\n",
    "From this histogram it is revealed that most nodes have an in-degree that is less than 10\n",
    "'''\n",
    "degrees = [dG.out_degree(n) for n in dG.nodes if dG.out_degree(n) <  100]\n",
    "plt.hist(degrees)\n",
    "plt.show()"
   ],
   "metadata": {
    "collapsed": false,
    "pycharm": {
     "name": "#%%\n"
    }
   }
  },
  {
   "cell_type": "code",
   "execution_count": 22,
   "outputs": [
    {
     "data": {
      "text/plain": "<Figure size 432x288 with 1 Axes>",
      "image/png": "[encoded data removed]"
     },
     "metadata": {
      "needs_background": "light"
     },
     "output_type": "display_data"
    }
   ],
   "source": [
    "'''\n",
    "From this histogram it is revealed that most nodes have an out-degree of 1\n",
    "'''\n",
    "degrees = [dG.out_degree(n) for n in dG.nodes if dG.out_degree(n) < 10]\n",
    "plt.hist(degrees)\n",
    "plt.show()"
   ],
   "metadata": {
    "collapsed": false,
    "pycharm": {
     "name": "#%%\n"
    }
   }
  },
  {
   "cell_type": "code",
   "execution_count": 23,
   "outputs": [
    {
     "name": "stdout",
     "output_type": "stream",
     "text": [
      "Nodes that have an out degree more than 1:\n",
      "8964\n",
      "Total number of nodes:\n",
      "73025\n"
     ]
    }
   ],
   "source": [
    "nodes_more_than1 = len([dG.out_degree(n) for n in dG.nodes if dG.out_degree(n) > 1])\n",
    "print(\"Nodes that have an out degree more than 1:\")\n",
    "print(nodes_more_than1)\n",
    "print(\"Total number of nodes:\")\n",
    "print(len(dG.nodes))"
   ],
   "metadata": {
    "collapsed": false,
    "pycharm": {
     "name": "#%%\n"
    }
   }
  },
  {
   "cell_type": "code",
   "execution_count": 24,
   "outputs": [],
   "source": [
    "def Pk(k):\n",
    "    \"\"\"\n",
    "    :param k: degree that is being tested\n",
    "    :return: degree distribution for the 2 graphs in all directions\n",
    "    \"\"\"\n",
    "    Nk1 = len([dG.out_degree(n) for n in dG.nodes if dG.out_degree(n) == k])\n",
    "    Nk2 = len([dG.in_degree(n) for n in dG.nodes if dG.in_degree(n) == k])\n",
    "    Nk3 = len([G.degree(n) for n in G.nodes if G.degree(n) == k])\n",
    "\n",
    "    return Nk1/len(dG.nodes), Nk2/len(dG.nodes), Nk3/len(G.nodes)"
   ],
   "metadata": {
    "collapsed": false,
    "pycharm": {
     "name": "#%%\n"
    }
   }
  },
  {
   "cell_type": "markdown",
   "source": [
    "build subsets talk about how to build subsets"
   ],
   "metadata": {
    "collapsed": false,
    "pycharm": {
     "name": "#%% md\n"
    }
   }
  },
  {
   "cell_type": "code",
   "execution_count": 30,
   "outputs": [
    {
     "ename": "KeyboardInterrupt",
     "evalue": "",
     "output_type": "error",
     "traceback": [
      "\u001B[0;31m---------------------------------------------------------------------------\u001B[0m",
      "\u001B[0;31mKeyboardInterrupt\u001B[0m                         Traceback (most recent call last)",
      "\u001B[0;32m<ipython-input-30-f362676f91e8>\u001B[0m in \u001B[0;36m<module>\u001B[0;34m\u001B[0m\n\u001B[0;32m----> 1\u001B[0;31m \u001B[0mcloseness\u001B[0m \u001B[0;34m=\u001B[0m \u001B[0mnx\u001B[0m\u001B[0;34m.\u001B[0m\u001B[0mcloseness_centrality\u001B[0m\u001B[0;34m(\u001B[0m\u001B[0mG\u001B[0m\u001B[0;34m)\u001B[0m\u001B[0;34m\u001B[0m\u001B[0;34m\u001B[0m\u001B[0m\n\u001B[0m\u001B[1;32m      2\u001B[0m \u001B[0msorted_closeness\u001B[0m \u001B[0;34m=\u001B[0m \u001B[0msorted\u001B[0m\u001B[0;34m(\u001B[0m\u001B[0mcloseness\u001B[0m\u001B[0;34m.\u001B[0m\u001B[0mitems\u001B[0m\u001B[0;34m(\u001B[0m\u001B[0;34m)\u001B[0m\u001B[0;34m,\u001B[0m \u001B[0mkey\u001B[0m\u001B[0;34m=\u001B[0m\u001B[0;32mlambda\u001B[0m \u001B[0mx\u001B[0m\u001B[0;34m:\u001B[0m \u001B[0mx\u001B[0m\u001B[0;34m[\u001B[0m\u001B[0;36m1\u001B[0m\u001B[0;34m]\u001B[0m\u001B[0;34m,\u001B[0m \u001B[0mreverse\u001B[0m\u001B[0;34m=\u001B[0m\u001B[0;32mTrue\u001B[0m\u001B[0;34m)\u001B[0m\u001B[0;34m\u001B[0m\u001B[0;34m\u001B[0m\u001B[0m\n\u001B[1;32m      3\u001B[0m \u001B[0mby_closeness\u001B[0m \u001B[0;34m=\u001B[0m \u001B[0msorted_closeness\u001B[0m\u001B[0;34m[\u001B[0m\u001B[0;34m-\u001B[0m\u001B[0;36m1\u001B[0m\u001B[0;34m]\u001B[0m\u001B[0;34m\u001B[0m\u001B[0;34m\u001B[0m\u001B[0m\n\u001B[1;32m      4\u001B[0m \u001B[0mC_edges\u001B[0m \u001B[0;34m=\u001B[0m \u001B[0;34m{\u001B[0m\u001B[0mk\u001B[0m\u001B[0;34m:\u001B[0m \u001B[0medges\u001B[0m\u001B[0;34m.\u001B[0m\u001B[0mget\u001B[0m\u001B[0;34m(\u001B[0m\u001B[0mk\u001B[0m\u001B[0;34m)\u001B[0m \u001B[0;32mfor\u001B[0m \u001B[0mk\u001B[0m \u001B[0;32min\u001B[0m \u001B[0medges\u001B[0m \u001B[0;32mif\u001B[0m \u001B[0mk\u001B[0m\u001B[0;34m[\u001B[0m\u001B[0;36m0\u001B[0m\u001B[0;34m]\u001B[0m \u001B[0;34m==\u001B[0m \u001B[0mby_closeness\u001B[0m \u001B[0;32mor\u001B[0m \u001B[0mk\u001B[0m\u001B[0;34m[\u001B[0m\u001B[0;36m1\u001B[0m\u001B[0;34m]\u001B[0m \u001B[0;34m==\u001B[0m \u001B[0mby_closeness\u001B[0m\u001B[0;34m}\u001B[0m\u001B[0;34m\u001B[0m\u001B[0;34m\u001B[0m\u001B[0m\n\u001B[1;32m      5\u001B[0m \u001B[0mCG\u001B[0m \u001B[0;34m=\u001B[0m \u001B[0mnx\u001B[0m\u001B[0;34m.\u001B[0m\u001B[0mDiGraph\u001B[0m\u001B[0;34m(\u001B[0m\u001B[0;34m)\u001B[0m\u001B[0;34m\u001B[0m\u001B[0;34m\u001B[0m\u001B[0m\n",
      "\u001B[0;32m~/PycharmProjects/pythonProject/venv/lib/python3.8/site-packages/networkx/algorithms/centrality/closeness.py\u001B[0m in \u001B[0;36mcloseness_centrality\u001B[0;34m(G, u, distance, wf_improved)\u001B[0m\n\u001B[1;32m    111\u001B[0m     \u001B[0mcloseness_centrality\u001B[0m \u001B[0;34m=\u001B[0m \u001B[0;34m{\u001B[0m\u001B[0;34m}\u001B[0m\u001B[0;34m\u001B[0m\u001B[0;34m\u001B[0m\u001B[0m\n\u001B[1;32m    112\u001B[0m     \u001B[0;32mfor\u001B[0m \u001B[0mn\u001B[0m \u001B[0;32min\u001B[0m \u001B[0mnodes\u001B[0m\u001B[0;34m:\u001B[0m\u001B[0;34m\u001B[0m\u001B[0;34m\u001B[0m\u001B[0m\n\u001B[0;32m--> 113\u001B[0;31m         \u001B[0msp\u001B[0m \u001B[0;34m=\u001B[0m \u001B[0mpath_length\u001B[0m\u001B[0;34m(\u001B[0m\u001B[0mG\u001B[0m\u001B[0;34m,\u001B[0m \u001B[0mn\u001B[0m\u001B[0;34m)\u001B[0m\u001B[0;34m\u001B[0m\u001B[0;34m\u001B[0m\u001B[0m\n\u001B[0m\u001B[1;32m    114\u001B[0m         \u001B[0mtotsp\u001B[0m \u001B[0;34m=\u001B[0m \u001B[0msum\u001B[0m\u001B[0;34m(\u001B[0m\u001B[0msp\u001B[0m\u001B[0;34m.\u001B[0m\u001B[0mvalues\u001B[0m\u001B[0;34m(\u001B[0m\u001B[0;34m)\u001B[0m\u001B[0;34m)\u001B[0m\u001B[0;34m\u001B[0m\u001B[0;34m\u001B[0m\u001B[0m\n\u001B[1;32m    115\u001B[0m         \u001B[0mlen_G\u001B[0m \u001B[0;34m=\u001B[0m \u001B[0mlen\u001B[0m\u001B[0;34m(\u001B[0m\u001B[0mG\u001B[0m\u001B[0;34m)\u001B[0m\u001B[0;34m\u001B[0m\u001B[0;34m\u001B[0m\u001B[0m\n",
      "\u001B[0;32m~/PycharmProjects/pythonProject/venv/lib/python3.8/site-packages/networkx/algorithms/shortest_paths/unweighted.py\u001B[0m in \u001B[0;36msingle_source_shortest_path_length\u001B[0;34m(G, source, cutoff)\u001B[0m\n\u001B[1;32m     57\u001B[0m         \u001B[0mcutoff\u001B[0m \u001B[0;34m=\u001B[0m \u001B[0mfloat\u001B[0m\u001B[0;34m(\u001B[0m\u001B[0;34m\"inf\"\u001B[0m\u001B[0;34m)\u001B[0m\u001B[0;34m\u001B[0m\u001B[0;34m\u001B[0m\u001B[0m\n\u001B[1;32m     58\u001B[0m     \u001B[0mnextlevel\u001B[0m \u001B[0;34m=\u001B[0m \u001B[0;34m{\u001B[0m\u001B[0msource\u001B[0m\u001B[0;34m:\u001B[0m \u001B[0;36m1\u001B[0m\u001B[0;34m}\u001B[0m\u001B[0;34m\u001B[0m\u001B[0;34m\u001B[0m\u001B[0m\n\u001B[0;32m---> 59\u001B[0;31m     \u001B[0;32mreturn\u001B[0m \u001B[0mdict\u001B[0m\u001B[0;34m(\u001B[0m\u001B[0m_single_shortest_path_length\u001B[0m\u001B[0;34m(\u001B[0m\u001B[0mG\u001B[0m\u001B[0;34m.\u001B[0m\u001B[0madj\u001B[0m\u001B[0;34m,\u001B[0m \u001B[0mnextlevel\u001B[0m\u001B[0;34m,\u001B[0m \u001B[0mcutoff\u001B[0m\u001B[0;34m)\u001B[0m\u001B[0;34m)\u001B[0m\u001B[0;34m\u001B[0m\u001B[0;34m\u001B[0m\u001B[0m\n\u001B[0m\u001B[1;32m     60\u001B[0m \u001B[0;34m\u001B[0m\u001B[0m\n\u001B[1;32m     61\u001B[0m \u001B[0;34m\u001B[0m\u001B[0m\n",
      "\u001B[0;32m~/PycharmProjects/pythonProject/venv/lib/python3.8/site-packages/networkx/algorithms/shortest_paths/unweighted.py\u001B[0m in \u001B[0;36m_single_shortest_path_length\u001B[0;34m(adj, firstlevel, cutoff)\u001B[0m\n\u001B[1;32m     81\u001B[0m         \u001B[0mnextlevel\u001B[0m \u001B[0;34m=\u001B[0m \u001B[0mset\u001B[0m\u001B[0;34m(\u001B[0m\u001B[0;34m)\u001B[0m  \u001B[0;31m# and start a new set (fringe)\u001B[0m\u001B[0;34m\u001B[0m\u001B[0;34m\u001B[0m\u001B[0m\n\u001B[1;32m     82\u001B[0m         \u001B[0mfound\u001B[0m \u001B[0;34m=\u001B[0m \u001B[0;34m[\u001B[0m\u001B[0;34m]\u001B[0m\u001B[0;34m\u001B[0m\u001B[0;34m\u001B[0m\u001B[0m\n\u001B[0;32m---> 83\u001B[0;31m         \u001B[0;32mfor\u001B[0m \u001B[0mv\u001B[0m \u001B[0;32min\u001B[0m \u001B[0mthislevel\u001B[0m\u001B[0;34m:\u001B[0m\u001B[0;34m\u001B[0m\u001B[0;34m\u001B[0m\u001B[0m\n\u001B[0m\u001B[1;32m     84\u001B[0m             \u001B[0;32mif\u001B[0m \u001B[0mv\u001B[0m \u001B[0;32mnot\u001B[0m \u001B[0;32min\u001B[0m \u001B[0mseen\u001B[0m\u001B[0;34m:\u001B[0m\u001B[0;34m\u001B[0m\u001B[0;34m\u001B[0m\u001B[0m\n\u001B[1;32m     85\u001B[0m                 \u001B[0mseen\u001B[0m\u001B[0;34m[\u001B[0m\u001B[0mv\u001B[0m\u001B[0;34m]\u001B[0m \u001B[0;34m=\u001B[0m \u001B[0mlevel\u001B[0m  \u001B[0;31m# set the level of vertex v\u001B[0m\u001B[0;34m\u001B[0m\u001B[0;34m\u001B[0m\u001B[0m\n",
      "\u001B[0;31mKeyboardInterrupt\u001B[0m: "
     ]
    }
   ],
   "source": [
    "# closeness = nx.closeness_centrality(G)\n",
    "# sorted_closeness = sorted(closeness.items(), key=lambda x: x[1], reverse=True)\n",
    "# by_closeness = sorted_closeness[-1]\n",
    "# C_edges = {k: edges.get(k) for k in edges if k[0] == by_closeness or k[1] == by_closeness}\n",
    "# CG = nx.DiGraph()\n",
    "# for edge in C_edges.keys():\n",
    "#     CG.add_edge(edge[0], edge[1], weight=C_edges.get(edge))"
   ],
   "metadata": {
    "collapsed": false,
    "pycharm": {
     "name": "#%%\n"
    }
   }
  },
  {
   "cell_type": "code",
   "execution_count": 39,
   "outputs": [],
   "source": [
    "degrees = nx.degree_centrality(G)\n",
    "sorted_degrees = sorted(degrees.items(), key=lambda x: x[1], reverse=True)\n",
    "by_degree = sorted_degrees[-1]\n",
    "D_edges = {k: edges.get(k) for k in edges if k[0] == by_degree[0] or k[1] == by_degree[0]}\n",
    "DG = nx.DiGraph()\n",
    "for edge in D_edges.keys():\n",
    "    DG.add_edge(edge[0], edge[1], weight=D_edges.get(edge))"
   ],
   "metadata": {
    "collapsed": false,
    "pycharm": {
     "name": "#%%\n"
    }
   }
  },
  {
   "cell_type": "code",
   "execution_count": 35,
   "outputs": [
    {
     "ename": "KeyError",
     "evalue": "('paul_syiek@thinkjobs.com', 1.369412795793164e-05)",
     "output_type": "error",
     "traceback": [
      "\u001B[0;31m---------------------------------------------------------------------------\u001B[0m",
      "\u001B[0;31mKeyError\u001B[0m                                  Traceback (most recent call last)",
      "\u001B[0;32m<ipython-input-35-10c66264b75f>\u001B[0m in \u001B[0;36m<module>\u001B[0;34m\u001B[0m\n\u001B[0;32m----> 1\u001B[0;31m \u001B[0mbetweenness\u001B[0m \u001B[0;34m=\u001B[0m \u001B[0mnx\u001B[0m\u001B[0;34m.\u001B[0m\u001B[0mbetweenness_centrality_source\u001B[0m\u001B[0;34m(\u001B[0m\u001B[0mG\u001B[0m\u001B[0;34m,\u001B[0m \u001B[0msources\u001B[0m\u001B[0;34m=\u001B[0m\u001B[0;34m[\u001B[0m\u001B[0msorted_degrees\u001B[0m\u001B[0;34m[\u001B[0m\u001B[0;34m-\u001B[0m\u001B[0;36m1\u001B[0m\u001B[0;34m]\u001B[0m\u001B[0;34m]\u001B[0m\u001B[0;34m)\u001B[0m\u001B[0;34m\u001B[0m\u001B[0;34m\u001B[0m\u001B[0m\n\u001B[0m\u001B[1;32m      2\u001B[0m \u001B[0msorted_betweenness\u001B[0m \u001B[0;34m=\u001B[0m \u001B[0msorted\u001B[0m\u001B[0;34m(\u001B[0m\u001B[0mbetweenness\u001B[0m\u001B[0;34m.\u001B[0m\u001B[0mitems\u001B[0m\u001B[0;34m(\u001B[0m\u001B[0;34m)\u001B[0m\u001B[0;34m,\u001B[0m \u001B[0mkey\u001B[0m\u001B[0;34m=\u001B[0m\u001B[0;32mlambda\u001B[0m \u001B[0mx\u001B[0m\u001B[0;34m:\u001B[0m \u001B[0mx\u001B[0m\u001B[0;34m[\u001B[0m\u001B[0;36m1\u001B[0m\u001B[0;34m]\u001B[0m\u001B[0;34m,\u001B[0m \u001B[0mreverse\u001B[0m\u001B[0;34m=\u001B[0m\u001B[0;32mTrue\u001B[0m\u001B[0;34m)\u001B[0m\u001B[0;34m\u001B[0m\u001B[0;34m\u001B[0m\u001B[0m\n\u001B[1;32m      3\u001B[0m \u001B[0mby_betweenness\u001B[0m \u001B[0;34m=\u001B[0m \u001B[0msorted_betweenness\u001B[0m\u001B[0;34m[\u001B[0m\u001B[0;34m-\u001B[0m\u001B[0;36m1\u001B[0m\u001B[0;34m]\u001B[0m\u001B[0;34m\u001B[0m\u001B[0;34m\u001B[0m\u001B[0m\n\u001B[1;32m      4\u001B[0m \u001B[0mB_edges\u001B[0m \u001B[0;34m=\u001B[0m \u001B[0;34m{\u001B[0m\u001B[0mk\u001B[0m\u001B[0;34m:\u001B[0m \u001B[0medges\u001B[0m\u001B[0;34m.\u001B[0m\u001B[0mget\u001B[0m\u001B[0;34m(\u001B[0m\u001B[0mk\u001B[0m\u001B[0;34m)\u001B[0m \u001B[0;32mfor\u001B[0m \u001B[0mk\u001B[0m \u001B[0;32min\u001B[0m \u001B[0medges\u001B[0m \u001B[0;32mif\u001B[0m \u001B[0mk\u001B[0m\u001B[0;34m[\u001B[0m\u001B[0;36m0\u001B[0m\u001B[0;34m]\u001B[0m \u001B[0;34m==\u001B[0m \u001B[0mby_betweenness\u001B[0m \u001B[0;32mor\u001B[0m \u001B[0mk\u001B[0m\u001B[0;34m[\u001B[0m\u001B[0;36m1\u001B[0m\u001B[0;34m]\u001B[0m \u001B[0;34m==\u001B[0m \u001B[0mby_betweenness\u001B[0m\u001B[0;34m}\u001B[0m\u001B[0;34m\u001B[0m\u001B[0;34m\u001B[0m\u001B[0m\n\u001B[1;32m      5\u001B[0m \u001B[0mBG\u001B[0m \u001B[0;34m=\u001B[0m \u001B[0mnx\u001B[0m\u001B[0;34m.\u001B[0m\u001B[0mDiGraph\u001B[0m\u001B[0;34m(\u001B[0m\u001B[0;34m)\u001B[0m\u001B[0;34m\u001B[0m\u001B[0;34m\u001B[0m\u001B[0m\n",
      "\u001B[0;32m~/PycharmProjects/pythonProject/venv/lib/python3.8/site-packages/networkx/algorithms/centrality/betweenness_subset.py\u001B[0m in \u001B[0;36mbetweenness_centrality_source\u001B[0;34m(G, normalized, weight, sources)\u001B[0m\n\u001B[1;32m    200\u001B[0m         \u001B[0msources\u001B[0m \u001B[0;34m=\u001B[0m \u001B[0mG\u001B[0m\u001B[0;34m.\u001B[0m\u001B[0mnodes\u001B[0m\u001B[0;34m(\u001B[0m\u001B[0;34m)\u001B[0m\u001B[0;34m\u001B[0m\u001B[0;34m\u001B[0m\u001B[0m\n\u001B[1;32m    201\u001B[0m     \u001B[0mtargets\u001B[0m \u001B[0;34m=\u001B[0m \u001B[0mlist\u001B[0m\u001B[0;34m(\u001B[0m\u001B[0mG\u001B[0m\u001B[0;34m)\u001B[0m\u001B[0;34m\u001B[0m\u001B[0;34m\u001B[0m\u001B[0m\n\u001B[0;32m--> 202\u001B[0;31m     \u001B[0;32mreturn\u001B[0m \u001B[0mbetweenness_centrality_subset\u001B[0m\u001B[0;34m(\u001B[0m\u001B[0mG\u001B[0m\u001B[0;34m,\u001B[0m \u001B[0msources\u001B[0m\u001B[0;34m,\u001B[0m \u001B[0mtargets\u001B[0m\u001B[0;34m,\u001B[0m \u001B[0mnormalized\u001B[0m\u001B[0;34m,\u001B[0m \u001B[0mweight\u001B[0m\u001B[0;34m)\u001B[0m\u001B[0;34m\u001B[0m\u001B[0;34m\u001B[0m\u001B[0m\n\u001B[0m\u001B[1;32m    203\u001B[0m \u001B[0;34m\u001B[0m\u001B[0m\n\u001B[1;32m    204\u001B[0m \u001B[0;34m\u001B[0m\u001B[0m\n",
      "\u001B[0;32m~/PycharmProjects/pythonProject/venv/lib/python3.8/site-packages/networkx/algorithms/centrality/betweenness_subset.py\u001B[0m in \u001B[0;36mbetweenness_centrality_subset\u001B[0;34m(G, sources, targets, normalized, weight)\u001B[0m\n\u001B[1;32m    103\u001B[0m         \u001B[0;31m# single source shortest paths\u001B[0m\u001B[0;34m\u001B[0m\u001B[0;34m\u001B[0m\u001B[0;34m\u001B[0m\u001B[0m\n\u001B[1;32m    104\u001B[0m         \u001B[0;32mif\u001B[0m \u001B[0mweight\u001B[0m \u001B[0;32mis\u001B[0m \u001B[0;32mNone\u001B[0m\u001B[0;34m:\u001B[0m  \u001B[0;31m# use BFS\u001B[0m\u001B[0;34m\u001B[0m\u001B[0;34m\u001B[0m\u001B[0m\n\u001B[0;32m--> 105\u001B[0;31m             \u001B[0mS\u001B[0m\u001B[0;34m,\u001B[0m \u001B[0mP\u001B[0m\u001B[0;34m,\u001B[0m \u001B[0msigma\u001B[0m \u001B[0;34m=\u001B[0m \u001B[0mshortest_path\u001B[0m\u001B[0;34m(\u001B[0m\u001B[0mG\u001B[0m\u001B[0;34m,\u001B[0m \u001B[0ms\u001B[0m\u001B[0;34m)\u001B[0m\u001B[0;34m\u001B[0m\u001B[0;34m\u001B[0m\u001B[0m\n\u001B[0m\u001B[1;32m    106\u001B[0m         \u001B[0;32melse\u001B[0m\u001B[0;34m:\u001B[0m  \u001B[0;31m# use Dijkstra's algorithm\u001B[0m\u001B[0;34m\u001B[0m\u001B[0;34m\u001B[0m\u001B[0m\n\u001B[1;32m    107\u001B[0m             \u001B[0mS\u001B[0m\u001B[0;34m,\u001B[0m \u001B[0mP\u001B[0m\u001B[0;34m,\u001B[0m \u001B[0msigma\u001B[0m \u001B[0;34m=\u001B[0m \u001B[0mdijkstra\u001B[0m\u001B[0;34m(\u001B[0m\u001B[0mG\u001B[0m\u001B[0;34m,\u001B[0m \u001B[0ms\u001B[0m\u001B[0;34m,\u001B[0m \u001B[0mweight\u001B[0m\u001B[0;34m)\u001B[0m\u001B[0;34m\u001B[0m\u001B[0;34m\u001B[0m\u001B[0m\n",
      "\u001B[0;32m~/PycharmProjects/pythonProject/venv/lib/python3.8/site-packages/networkx/algorithms/centrality/betweenness.py\u001B[0m in \u001B[0;36m_single_source_shortest_path_basic\u001B[0;34m(G, s)\u001B[0m\n\u001B[1;32m    262\u001B[0m         \u001B[0mDv\u001B[0m \u001B[0;34m=\u001B[0m \u001B[0mD\u001B[0m\u001B[0;34m[\u001B[0m\u001B[0mv\u001B[0m\u001B[0;34m]\u001B[0m\u001B[0;34m\u001B[0m\u001B[0;34m\u001B[0m\u001B[0m\n\u001B[1;32m    263\u001B[0m         \u001B[0msigmav\u001B[0m \u001B[0;34m=\u001B[0m \u001B[0msigma\u001B[0m\u001B[0;34m[\u001B[0m\u001B[0mv\u001B[0m\u001B[0;34m]\u001B[0m\u001B[0;34m\u001B[0m\u001B[0;34m\u001B[0m\u001B[0m\n\u001B[0;32m--> 264\u001B[0;31m         \u001B[0;32mfor\u001B[0m \u001B[0mw\u001B[0m \u001B[0;32min\u001B[0m \u001B[0mG\u001B[0m\u001B[0;34m[\u001B[0m\u001B[0mv\u001B[0m\u001B[0;34m]\u001B[0m\u001B[0;34m:\u001B[0m\u001B[0;34m\u001B[0m\u001B[0;34m\u001B[0m\u001B[0m\n\u001B[0m\u001B[1;32m    265\u001B[0m             \u001B[0;32mif\u001B[0m \u001B[0mw\u001B[0m \u001B[0;32mnot\u001B[0m \u001B[0;32min\u001B[0m \u001B[0mD\u001B[0m\u001B[0;34m:\u001B[0m\u001B[0;34m\u001B[0m\u001B[0;34m\u001B[0m\u001B[0m\n\u001B[1;32m    266\u001B[0m                 \u001B[0mQ\u001B[0m\u001B[0;34m.\u001B[0m\u001B[0mappend\u001B[0m\u001B[0;34m(\u001B[0m\u001B[0mw\u001B[0m\u001B[0;34m)\u001B[0m\u001B[0;34m\u001B[0m\u001B[0;34m\u001B[0m\u001B[0m\n",
      "\u001B[0;32m~/PycharmProjects/pythonProject/venv/lib/python3.8/site-packages/networkx/classes/graph.py\u001B[0m in \u001B[0;36m__getitem__\u001B[0;34m(self, n)\u001B[0m\n\u001B[1;32m    463\u001B[0m         \u001B[0mAtlasView\u001B[0m\u001B[0;34m(\u001B[0m\u001B[0;34m{\u001B[0m\u001B[0;36m1\u001B[0m\u001B[0;34m:\u001B[0m \u001B[0;34m{\u001B[0m\u001B[0;34m}\u001B[0m\u001B[0;34m}\u001B[0m\u001B[0;34m)\u001B[0m\u001B[0;34m\u001B[0m\u001B[0;34m\u001B[0m\u001B[0m\n\u001B[1;32m    464\u001B[0m         \"\"\"\n\u001B[0;32m--> 465\u001B[0;31m         \u001B[0;32mreturn\u001B[0m \u001B[0mself\u001B[0m\u001B[0;34m.\u001B[0m\u001B[0madj\u001B[0m\u001B[0;34m[\u001B[0m\u001B[0mn\u001B[0m\u001B[0;34m]\u001B[0m\u001B[0;34m\u001B[0m\u001B[0;34m\u001B[0m\u001B[0m\n\u001B[0m\u001B[1;32m    466\u001B[0m \u001B[0;34m\u001B[0m\u001B[0m\n\u001B[1;32m    467\u001B[0m     \u001B[0;32mdef\u001B[0m \u001B[0madd_node\u001B[0m\u001B[0;34m(\u001B[0m\u001B[0mself\u001B[0m\u001B[0;34m,\u001B[0m \u001B[0mnode_for_adding\u001B[0m\u001B[0;34m,\u001B[0m \u001B[0;34m**\u001B[0m\u001B[0mattr\u001B[0m\u001B[0;34m)\u001B[0m\u001B[0;34m:\u001B[0m\u001B[0;34m\u001B[0m\u001B[0;34m\u001B[0m\u001B[0m\n",
      "\u001B[0;32m~/PycharmProjects/pythonProject/venv/lib/python3.8/site-packages/networkx/classes/coreviews.py\u001B[0m in \u001B[0;36m__getitem__\u001B[0;34m(self, name)\u001B[0m\n\u001B[1;32m     77\u001B[0m \u001B[0;34m\u001B[0m\u001B[0m\n\u001B[1;32m     78\u001B[0m     \u001B[0;32mdef\u001B[0m \u001B[0m__getitem__\u001B[0m\u001B[0;34m(\u001B[0m\u001B[0mself\u001B[0m\u001B[0;34m,\u001B[0m \u001B[0mname\u001B[0m\u001B[0;34m)\u001B[0m\u001B[0;34m:\u001B[0m\u001B[0;34m\u001B[0m\u001B[0;34m\u001B[0m\u001B[0m\n\u001B[0;32m---> 79\u001B[0;31m         \u001B[0;32mreturn\u001B[0m \u001B[0mAtlasView\u001B[0m\u001B[0;34m(\u001B[0m\u001B[0mself\u001B[0m\u001B[0;34m.\u001B[0m\u001B[0m_atlas\u001B[0m\u001B[0;34m[\u001B[0m\u001B[0mname\u001B[0m\u001B[0;34m]\u001B[0m\u001B[0;34m)\u001B[0m\u001B[0;34m\u001B[0m\u001B[0;34m\u001B[0m\u001B[0m\n\u001B[0m\u001B[1;32m     80\u001B[0m \u001B[0;34m\u001B[0m\u001B[0m\n\u001B[1;32m     81\u001B[0m     \u001B[0;32mdef\u001B[0m \u001B[0mcopy\u001B[0m\u001B[0;34m(\u001B[0m\u001B[0mself\u001B[0m\u001B[0;34m)\u001B[0m\u001B[0;34m:\u001B[0m\u001B[0;34m\u001B[0m\u001B[0;34m\u001B[0m\u001B[0m\n",
      "\u001B[0;31mKeyError\u001B[0m: ('paul_syiek@thinkjobs.com', 1.369412795793164e-05)"
     ]
    }
   ],
   "source": [
    "# betweenness = nx.betweenness_centrality_source(G, sources=[sorted_degrees[-1]])\n",
    "# sorted_betweenness = sorted(betweenness.items(), key=lambda x: x[1], reverse=True)\n",
    "# by_betweenness = sorted_betweenness[-1]\n",
    "# B_edges = {k: edges.get(k) for k in edges if k[0] == by_betweenness or k[1] == by_betweenness}\n",
    "# BG = nx.DiGraph()\n",
    "# for edge in B_edges.keys():\n",
    "#     BG.add_edge(edge[0], edge[1], weight= B_edges.get(edge))"
   ],
   "metadata": {
    "collapsed": false,
    "pycharm": {
     "name": "#%%\n"
    }
   }
  },
  {
   "cell_type": "code",
   "execution_count": 40,
   "outputs": [
    {
     "name": "stdout",
     "output_type": "stream",
     "text": [
      "2\n",
      "73025\n"
     ]
    }
   ],
   "source": [
    "# print(len(CG.nodes))\n",
    "# print(len(BG.nodes))\n",
    "print(len(DG.nodes))\n",
    "print(len(dG.nodes))"
   ],
   "metadata": {
    "collapsed": false,
    "pycharm": {
     "name": "#%%\n"
    }
   }
  },
  {
   "cell_type": "markdown",
   "source": [
    "GX, LGX and G are too big"
   ],
   "metadata": {
    "collapsed": false,
    "pycharm": {
     "name": "#%% md\n"
    }
   }
  },
  {
   "cell_type": "code",
   "execution_count": null,
   "outputs": [],
   "source": [
    "#print(nx.diameter(iG.to_undirected()))\n",
    "#print(nx.diameter(GX.to_undirected()))\n",
    "#print(nx.diameter(LGX.to_undirected()))\n"
   ],
   "metadata": {
    "collapsed": false,
    "pycharm": {
     "name": "#%%\n"
    }
   }
  }
 ],
 "metadata": {
  "kernelspec": {
   "display_name": "Python 3",
   "language": "python",
   "name": "python3"
  },
  "language_info": {
   "codemirror_mode": {
    "name": "ipython",
    "version": 2
   },
   "file_extension": ".py",
   "mimetype": "text/x-python",
   "name": "python",
   "nbconvert_exporter": "python",
   "pygments_lexer": "ipython2",
   "version": "2.7.6"
  }
 },
 "nbformat": 4,
 "nbformat_minor": 0
}