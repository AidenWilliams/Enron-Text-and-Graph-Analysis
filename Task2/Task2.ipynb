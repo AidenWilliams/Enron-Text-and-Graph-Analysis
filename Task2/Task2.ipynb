{
 "cells": [
  {
   "cell_type": "markdown",
   "metadata": {
    "collapsed": true,
    "pycharm": {
     "name": "#%% md\n"
    }
   },
   "source": [
    "# Read Me\n",
    "\n",
    "In order for the notebook to function properly the Enron Emails dataset or our parsed data needs to be accessible to it.\n",
    "Attached to this file are two json files, the Parsed_Emails.json which contains all the parsed data from the MIME files\n",
    "found in the Enron Emails dataset as well as a graph.json file which will be used to visualize the graph using javascript.\n",
    "Regarding the last point this notebook has to be loaded using a jupyter notebook server unto a browser and marked as\n",
    "trusted as I make use of IPython html and JS embedding for visualization.\n",
    "***\n",
    "***\n",
    "# 40% Task 2\n",
    "###### Aiden Williams | Ethan Zammit\n",
    "\n",
    "## Introduction\n",
    "In this project we parsed through the Enron email dataset. For the purposes of this task we only used the email addresses\n",
    "used in an email. Using these emails we generated a graph connected **senders to receivers**. If a sender sends multiple\n",
    "emails to a receiver, this is reflected by increasing the **weight** in the edge connecting the two addresses. Once the\n",
    "graph is generated we analyse it and visualise it.\n",
    "***\n",
    "## List Of Contents\n",
    "1. [Libraries Used](#Libraries-Used)\n",
    "2. [Parsing Emails](#Parsing-Emails)\n",
    "3. [Constructing The Graph](#Constructing-The-Graph)\n",
    "4. [Graph Analyses](#Graph-Analyses)\n",
    "5. [Graph Visualization](#Graph-Visualization)\n"
   ]
  },
  {
   "cell_type": "markdown",
   "metadata": {
    "pycharm": {
     "name": "#%% md\n"
    }
   },
   "source": [
    "# Libraries Used\n",
    "For this task we used a number of Python libraries. Below we go over why we used these libraries.\n",
    "\n",
    "* For **Parsing** we used the os library and the Parser class from the email library\n",
    "* For **Loading** and **Writing** the parsed data we used the os and json libraries\n",
    "* For **Constructing**, **Analyses** and **Visualization** we used the networkx and random libraries\n",
    "* For **Visualization** we used the the JS D3 library\n",
    "* In general we used the tqdm library to visualize processes\n",
    "***\n",
    "## Importing and Global Variables\n",
    "In the below code section we import and initialize some global variables.\n",
    "***"
   ]
  },
  {
   "cell_type": "code",
   "execution_count": 1,
   "metadata": {
    "pycharm": {
     "name": "#%%\n"
    }
   },
   "outputs": [],
   "source": [
    "import os\n",
    "from email.parser import Parser\n",
    "from tqdm import tqdm\n",
    "import json\n",
    "import networkx as nx\n",
    "import matplotlib.pyplot as plt\n",
    "import random\n",
    "\n",
    "# set root directory of dataset\n",
    "# PLEASE CHANGE THIS TO WHEREVER YOUR DATASET IS\n",
    "# ********************************************************\n",
    "dataroot = os.path.join('EnronEmails_Filtered', 'maildir')\n",
    "# ********************************************************\n",
    "if not os.access(dataroot, os.R_OK):\n",
    "    print(\"Check dataroot!!\")"
   ]
  },
  {
   "cell_type": "markdown",
   "metadata": {
    "pycharm": {
     "name": "#%% md\n"
    }
   },
   "source": [
    "# Parsing Emails\n",
    "## What We Collect\n",
    "#### Email Format:\n",
    "\n",
    "From: sample@sample.com\n",
    "\n",
    "To: sample@sample.com\n",
    "\n",
    "CC: sample@sample.com\n",
    "\n",
    "BCC: sample@sample.com\n",
    "\n",
    "Subject: Lorem ipsum\n",
    "\n",
    "Text: dolor sit amet, consectetur adipiscing elit, sed do eiusmod tempor incididunt ut labore et dolore magna aliqua.\n",
    "\n",
    "*where to, cc and bcc are a lists of email addresses and Subject and Text are strings*\n",
    "\n",
    "For the purpose of this task we collected the addresses in an email, i.e. the From, To, CC and BCC email addresses. Using\n",
    "these addresses, we created a directed graph connecting From -> To, From -> CC, From -> BCC. If 1 email was sent from From\n",
    "to: To, CC and BCC, in the generated graph, To will have 3 out going edges to To, CC and BCC. Repeated address in To, CC\n",
    "or BCC are ignored, i.e. only one edge is created from From.\n",
    "***\n",
    "## Method\n",
    "\n",
    "Every file located in the dataroot directory is opened and parsed. From each MIME file in the data directory data is\n",
    "collected in a dictionary of the following format:\n",
    "> {'subject': email['subject'], 'text': email.get_payload(), 'tos': [], 'ccs': [], 'bccs': []}\n",
    "\n",
    "This dictionary is then saved as file.json.\n",
    "\n",
    "Below are the functions used for this process."
   ]
  },
  {
   "cell_type": "code",
   "execution_count": 2,
   "metadata": {
    "pycharm": {
     "name": "#%%\n"
    }
   },
   "outputs": [],
   "source": [
    "def parseData(dic, root):\n",
    "    \"\"\"\n",
    "    Parses data from root into dic, tqdm progress bar indicates progress.\n",
    "    :param dic: dictionary that will be loaded with emails\n",
    "    :param root: root directory\n",
    "    :return: dic filled with data from root\n",
    "    \"\"\"\n",
    "    for user in tqdm(os.listdir(root)):\n",
    "        userPath = os.path.join(root, user)\n",
    "        for folder in os.listdir(userPath):\n",
    "            folderPath = os.path.join(root, user, folder)\n",
    "            if os.path.isfile(folderPath):\n",
    "                addMail(dic, folderPath)\n",
    "                continue\n",
    "\n",
    "            for file in os.listdir(folderPath):\n",
    "                addAll(dic, os.path.join(dataroot, user, folder, file))"
   ]
  },
  {
   "cell_type": "code",
   "execution_count": 3,
   "metadata": {
    "pycharm": {
     "name": "#%%\n"
    }
   },
   "outputs": [],
   "source": [
    "def addAll(dic, emailDir):\n",
    "    \"\"\"\n",
    "    Add all emails in emailDir(MIME file or directory) into dic.\n",
    "    :param dic: dict to add emails to\n",
    "    :param emailDir: (MIME file or directory) from which the emails are being read\n",
    "    :return: updated dic\n",
    "    \"\"\"\n",
    "    if not os.path.isfile(emailDir):\n",
    "        for file in os.listdir(emailDir):\n",
    "            addAll(dic, os.path.join(emailDir, file))\n",
    "    else:\n",
    "        addMail(dic, emailDir)"
   ]
  },
  {
   "cell_type": "code",
   "execution_count": 4,
   "metadata": {
    "pycharm": {
     "name": "#%%\n"
    }
   },
   "outputs": [],
   "source": [
    "def addMail(dic, emailDir):\n",
    "    \"\"\"\n",
    "    Add email from emailDir(a MIME file) into dic.\n",
    "    :param dic: dict to add email to\n",
    "    :param emailDir: file from which the email are being read\n",
    "    :return: updated dic\n",
    "    \"\"\"\n",
    "    with open(emailDir, \"r\", encoding='utf-8', errors='ignore') as f:\n",
    "        email = Parser().parsestr(f.read())\n",
    "        key = email['from']\n",
    "        if key in dic:\n",
    "            value = dic.get(email['from'])\n",
    "            value.append(readMail(email))\n",
    "            dic.update({key: value})\n",
    "        else:\n",
    "            value = [readMail(email)]\n",
    "            dic.update({key: value})"
   ]
  },
  {
   "cell_type": "code",
   "execution_count": 5,
   "metadata": {
    "pycharm": {
     "name": "#%%\n"
    }
   },
   "outputs": [],
   "source": [
    "def readMail(email):\n",
    "    \"\"\"\n",
    "    Converts python email object into dict of dicts as written:\n",
    "        {subject: \"\", text: \"\", tos: [], ccs: [], bccs: []}\n",
    "    All duplicates that existed in tos,ccs and bccs, are removed.\n",
    "    :param email: email being read\n",
    "    :return: returns dict of dicts {subject: \"\", text: \"\", tos: [], cc: [], bcc: []}\n",
    "    \"\"\"\n",
    "    update = {'subject': email['subject'], 'text': email.get_payload(), 'tos': [], 'ccs': [], 'bccs': []}\n",
    "    if email['to']:\n",
    "        update['tos'] = list(set(splitEmails(email, 'to')))\n",
    "    if email['cc']:\n",
    "        update['ccs'] = list(set(splitEmails(email, 'cc')))\n",
    "        # This for if is O(n^2) it slows the parsing by a bit but it does remove duplicates in cc and bcc\n",
    "        for a in update['ccs']:\n",
    "            if a in update['tos']:\n",
    "                update['ccs'].remove(a)\n",
    "    if email['bcc']:\n",
    "        update['bccs'] = list(set(splitEmails(email, 'bcc')))\n",
    "        for a in update['bccs']:\n",
    "            if a in update['ccs']:\n",
    "                update['bccs'].remove(a)\n",
    "    return update"
   ]
  },
  {
   "cell_type": "code",
   "execution_count": 6,
   "metadata": {
    "pycharm": {
     "name": "#%%\n"
    }
   },
   "outputs": [],
   "source": [
    "def splitEmails(maillist: str, tag):\n",
    "    \"\"\"\n",
    "    Splits email of type tag [to,cc,bcc] addresses from maillist\n",
    "    :param maillist: email with lists of addresses\n",
    "    :param tag: tag specified to split from\n",
    "    :return: list of split emails, Duplicates are included\n",
    "    \"\"\"\n",
    "    split = maillist[tag]\n",
    "    split = split.replace(\"\\n\", \"\")\n",
    "    split = split.replace(\"\\t\", \"\")\n",
    "    split = split.replace(\" \", \"\")\n",
    "    return split.split(',')\n"
   ]
  },
  {
   "cell_type": "code",
   "execution_count": 7,
   "metadata": {
    "pycharm": {
     "name": "#%%\n"
    }
   },
   "outputs": [],
   "source": [
    "def _saveToFile(data, path):\n",
    "    \"\"\"\n",
    "    Saves serializable data structures to a json file.\n",
    "    :param data: data to be saved.\n",
    "    :param path: path where the file will be written.\n",
    "    \"\"\"\n",
    "    print('Saving')\n",
    "    with open(path, 'w') as fp:\n",
    "        json.dump(data, fp, indent=4)"
   ]
  },
  {
   "cell_type": "markdown",
   "metadata": {
    "pycharm": {
     "name": "#%% md\n"
    }
   },
   "source": [
    "## Loading or Parsing\n",
    "\n",
    "If the data has been parsed and saved before we load that into the data dictionary. Loading the data from a json is much\n",
    "faster then re-parsing the dataset."
   ]
  },
  {
   "cell_type": "code",
   "execution_count": 8,
   "metadata": {
    "pycharm": {
     "name": "#%%\n"
    }
   },
   "outputs": [
    {
     "name": "stdout",
     "output_type": "stream",
     "text": [
      "Docs file found!\n",
      "Reading...\n",
      "...done!\n"
     ]
    }
   ],
   "source": [
    "data = {}\n",
    "file_name = \"Parsed_Emails.json\"\n",
    "if os.path.isfile(file_name) and os.access(file_name, os.R_OK):\n",
    "    print(\"Docs file found!\")\n",
    "    print('Reading...')\n",
    "    with open(file_name, 'r') as f:\n",
    "        data = json.load(f)\n",
    "    print(\"...done!\")\n",
    "\n",
    "else:\n",
    "    print(\"Either file is missing or is not readable, creating file...\")\n",
    "    parseData(data, dataroot)\n",
    "    _saveToFile(data, path=file_name)"
   ]
  },
  {
   "cell_type": "markdown",
   "metadata": {
    "pycharm": {
     "name": "#%% md\n"
    }
   },
   "source": [
    "# Constructing The Graph\n",
    "\n",
    "## Graph Edges\n",
    "Edges are created from, From to any address in the To, CC or BCC section of an email. We first create all the edges in the\n",
    "graph and then create a NetworkX directed graph using these edges."
   ]
  },
  {
   "cell_type": "code",
   "execution_count": 9,
   "metadata": {
    "pycharm": {
     "name": "#%%\n"
    }
   },
   "outputs": [],
   "source": [
    "class Edge:\n",
    "    \"\"\"\n",
    "    Simple edge class that represents and edge with weight between 2 aliases\n",
    "    \"\"\"\n",
    "    def __init__(self, alias1: str, alias2: str, weight=0):\n",
    "        self.alias1 = alias1\n",
    "        self.alias2 = alias2\n",
    "        self.weight = weight"
   ]
  },
  {
   "cell_type": "markdown",
   "metadata": {
    "pycharm": {
     "name": "#%% md\n"
    }
   },
   "source": [
    "## Edge Dictionary\n",
    "All the edges in the graph representing the entire dataset are stored in edges in the format:\n",
    "\n",
    "> {tuple(from, to): weight}\n",
    "\n",
    "The Edges are added to edges via addEdgeToDict."
   ]
  },
  {
   "cell_type": "code",
   "execution_count": 10,
   "metadata": {
    "pycharm": {
     "name": "#%%\n"
    }
   },
   "outputs": [
    {
     "name": "stderr",
     "output_type": "stream",
     "text": [
      "  2%|▏         | 262/15236 [00:00<00:05, 2594.17it/s]"
     ]
    },
    {
     "name": "stdout",
     "output_type": "stream",
     "text": [
      "\n",
      "Building Edges\n"
     ]
    },
    {
     "name": "stderr",
     "output_type": "stream",
     "text": [
      "100%|██████████| 15236/15236 [00:01<00:00, 12602.21it/s]\n"
     ]
    }
   ],
   "source": [
    "edges = {}\n",
    "def addEdgeToDict(frm, to):\n",
    "    \"\"\"\n",
    "    Adds edge from -> to to dictionary, incrementing weight if the tuple(frm, to) already exists in edges\n",
    "    :param frm: from user\n",
    "    :param to: to user\n",
    "    :return: dictionary of edges key=tuple(frm,to):value=weight\n",
    "    \"\"\"\n",
    "    key = tuple([frm, to])\n",
    "    if key in edges:\n",
    "        w = edges.get(key)\n",
    "        w += 1\n",
    "        edges[key] = w\n",
    "    else:\n",
    "        edges.update({key: 1})\n",
    "\n",
    "print(\"\\nBuilding Edges\")\n",
    "for _from in tqdm(data):\n",
    "    emails = data.get(_from)\n",
    "    for e in emails:\n",
    "        for t in e['tos']:\n",
    "            addEdgeToDict(_from, t)\n",
    "        for c in e['ccs']:\n",
    "            addEdgeToDict(_from, c)\n",
    "        for b in e['bccs']:\n",
    "            addEdgeToDict(_from, b)"
   ]
  },
  {
   "cell_type": "markdown",
   "metadata": {
    "pycharm": {
     "name": "#%% md\n"
    }
   },
   "source": [
    "## NetworkX Graph\n",
    "Using the edges dictionary, and the add_edge() function we create dG a directed Graph."
   ]
  },
  {
   "cell_type": "code",
   "execution_count": 11,
   "metadata": {
    "pycharm": {
     "name": "#%%\n"
    }
   },
   "outputs": [
    {
     "name": "stderr",
     "output_type": "stream",
     "text": [
      " 17%|█▋        | 54583/316767 [00:00<00:00, 540439.40it/s]"
     ]
    },
    {
     "name": "stdout",
     "output_type": "stream",
     "text": [
      "\n",
      "Building NetworkX Graph\n"
     ]
    },
    {
     "name": "stderr",
     "output_type": "stream",
     "text": [
      "100%|██████████| 316767/316767 [00:00<00:00, 496502.40it/s]"
     ]
    },
    {
     "name": "stdout",
     "output_type": "stream",
     "text": [
      "\n",
      "Done.\n"
     ]
    },
    {
     "name": "stderr",
     "output_type": "stream",
     "text": [
      "\n"
     ]
    }
   ],
   "source": [
    "dG = nx.DiGraph()\n",
    "print(\"\\nBuilding NetworkX Graph\")\n",
    "for edge in tqdm(edges.keys()):\n",
    "    dG.add_edge(edge[0], edge[1], weight=edges.get(edge))\n",
    "print(\"\\nDone.\")"
   ]
  },
  {
   "cell_type": "markdown",
   "metadata": {
    "pycharm": {
     "name": "#%% md\n"
    }
   },
   "source": [
    "# Graph Analyses\n",
    "To analyse the graph we where required to do a number of tasks:\n",
    "1. [Degree Distribution](#Degree-Distribution)\n",
    "2. [Diameter](#Diameter)\n",
    "3. [Average Path Length](#Average-Path-Length)\n",
    "4. [Global Clustering Coefficient](#Global-Clustering-Coefficient)\n",
    "5. [Compactness](#Compactness)\n",
    "6. [Betwenness Centrality](#Betwenness-Centrality)\n",
    "7. [Page Rank](#Page-Rank)\n",
    "\n",
    "The process of each task will be detailed in their respective md section."
   ]
  },
  {
   "cell_type": "markdown",
   "metadata": {
    "pycharm": {
     "name": "#%% md\n"
    }
   },
   "source": [
    "## Degree Distribution\n",
    "Using a number of histograms we visualize the degree distribution of the entire graph. A number of histograms are drawn\n",
    "to better visualize the distribution. Each plot will have inline comments describing what the plot is visualizing.\n",
    "\n",
    "P(k) for all degree types(undirected/in/out) is given by the Pk function"
   ]
  },
  {
   "cell_type": "markdown",
   "metadata": {
    "pycharm": {
     "name": "#%% md\n"
    }
   },
   "source": [
    "#### Undirected Degree Distribution"
   ]
  },
  {
   "cell_type": "code",
   "execution_count": 12,
   "metadata": {
    "pycharm": {
     "name": "#%%\n"
    }
   },
   "outputs": [
    {
     "data": {
      "image/png": "[encoded data removed]",
      "text/plain": [
       "<Figure size 432x288 with 1 Axes>"
      ]
     },
     "metadata": {
      "needs_background": "light"
     },
     "output_type": "display_data"
    }
   ],
   "source": [
    "'''\n",
    "The majority of nodes are connected less than 125 the node with the most connections reaches 2000.\n",
    "'''\n",
    "degrees = [dG.degree(n) for n in dG.nodes]\n",
    "plt.hist(degrees)\n",
    "plt.show()"
   ]
  },
  {
   "cell_type": "code",
   "execution_count": 13,
   "metadata": {
    "pycharm": {
     "name": "#%%\n"
    }
   },
   "outputs": [
    {
     "data": {
      "image/png": "[encoded data removed]",
      "text/plain": [
       "<Figure size 432x288 with 1 Axes>"
      ]
     },
     "metadata": {
      "needs_background": "light"
     },
     "output_type": "display_data"
    }
   ],
   "source": [
    "'''\n",
    "From this histogram it is revealed that most nodes have a degree that is less than 20\n",
    "'''\n",
    "degrees = [dG.degree(n) for n in dG.nodes if dG.degree(n) < 125]\n",
    "plt.hist(degrees)\n",
    "plt.show()"
   ]
  },
  {
   "cell_type": "code",
   "execution_count": 14,
   "metadata": {
    "pycharm": {
     "name": "#%%\n"
    }
   },
   "outputs": [
    {
     "data": {
      "image/png": "[encoded data removed]",
      "text/plain": [
       "<Figure size 432x288 with 1 Axes>"
      ]
     },
     "metadata": {
      "needs_background": "light"
     },
     "output_type": "display_data"
    }
   ],
   "source": [
    "'''\n",
    "From this histogram it is revealed that most nodes have a degree of 2\n",
    "'''\n",
    "degrees = [dG.degree(n) for n in dG.nodes if dG.degree(n) < 20]\n",
    "plt.hist(degrees)\n",
    "plt.show()"
   ]
  },
  {
   "cell_type": "code",
   "execution_count": 15,
   "metadata": {
    "pycharm": {
     "name": "#%%\n"
    }
   },
   "outputs": [
    {
     "name": "stdout",
     "output_type": "stream",
     "text": [
      "Nodes that have a degree more than 2:\n",
      "18808\n",
      "Total number of nodes:\n",
      "73025\n"
     ]
    }
   ],
   "source": [
    "nodes_more_than2 = len([dG.degree(n) for n in dG.nodes if dG.degree(n) > 2])\n",
    "print(\"Nodes that have a degree more than 2:\")\n",
    "print(nodes_more_than2)\n",
    "print(\"Total number of nodes:\")\n",
    "print(len(dG.nodes))"
   ]
  },
  {
   "cell_type": "markdown",
   "metadata": {},
   "source": [
    "#### In Degree Distribution"
   ]
  },
  {
   "cell_type": "code",
   "execution_count": 16,
   "metadata": {
    "pycharm": {
     "name": "#%%\n"
    }
   },
   "outputs": [
    {
     "data": {
      "image/png": "[encoded data removed]",
      "text/plain": [
       "<Figure size 432x288 with 1 Axes>"
      ]
     },
     "metadata": {
      "needs_background": "light"
     },
     "output_type": "display_data"
    }
   ],
   "source": [
    "'''\n",
    "The majority of nodes are connected less than 100 the node with the highest in degree reaches 800.\n",
    "'''\n",
    "degrees = [dG.in_degree(n) for n in dG.nodes]\n",
    "plt.hist(degrees)\n",
    "plt.show()"
   ]
  },
  {
   "cell_type": "code",
   "execution_count": 17,
   "metadata": {
    "pycharm": {
     "name": "#%%\n"
    }
   },
   "outputs": [
    {
     "data": {
      "image/png": "[encoded data removed]",
      "text/plain": [
       "<Figure size 432x288 with 1 Axes>"
      ]
     },
     "metadata": {
      "needs_background": "light"
     },
     "output_type": "display_data"
    }
   ],
   "source": [
    "'''\n",
    "From this histogram it is revealed that most nodes have an in-degree that is less than 10\n",
    "'''\n",
    "degrees = [dG.in_degree(n) for n in dG.nodes if dG.in_degree(n) <  100]\n",
    "plt.hist(degrees)\n",
    "plt.show()"
   ]
  },
  {
   "cell_type": "code",
   "execution_count": 18,
   "metadata": {
    "pycharm": {
     "name": "#%%\n"
    }
   },
   "outputs": [
    {
     "data": {
      "image/png": "[encoded data removed]",
      "text/plain": [
       "<Figure size 432x288 with 1 Axes>"
      ]
     },
     "metadata": {
      "needs_background": "light"
     },
     "output_type": "display_data"
    }
   ],
   "source": [
    "'''\n",
    "From this histogram it is revealed that most nodes have an in-degree of 2, also a significant number have an in-degree\n",
    "of 3\n",
    "'''\n",
    "degrees = [dG.in_degree(n) for n in dG.nodes if dG.in_degree(n) < 10]\n",
    "plt.hist(degrees)\n",
    "plt.show()"
   ]
  },
  {
   "cell_type": "code",
   "execution_count": 19,
   "metadata": {
    "pycharm": {
     "name": "#%%\n"
    }
   },
   "outputs": [
    {
     "name": "stdout",
     "output_type": "stream",
     "text": [
      "Nodes that have a degree more than 3:\n",
      "12371\n",
      "Total number of nodes:\n",
      "73025\n"
     ]
    }
   ],
   "source": [
    "nodes_more_than3 = len([dG.in_degree(n) for n in dG.nodes if dG.in_degree(n) > 3])\n",
    "print(\"Nodes that have a degree more than 3:\")\n",
    "print(nodes_more_than3)\n",
    "print(\"Total number of nodes:\")\n",
    "print(len(dG.nodes))"
   ]
  },
  {
   "cell_type": "markdown",
   "metadata": {},
   "source": [
    "#### Out Degree Distribution"
   ]
  },
  {
   "cell_type": "code",
   "execution_count": 20,
   "metadata": {
    "pycharm": {
     "name": "#%%\n"
    }
   },
   "outputs": [
    {
     "data": {
      "image/png": "[encoded data removed]",
      "text/plain": [
       "<Figure size 432x288 with 1 Axes>"
      ]
     },
     "metadata": {
      "needs_background": "light"
     },
     "output_type": "display_data"
    }
   ],
   "source": [
    "'''\n",
    "The majority of nodes have an out-degree less than 100 the node with the highest out degree of 1400.\n",
    "'''\n",
    "degrees = [dG.out_degree(n) for n in dG.nodes]\n",
    "plt.hist(degrees)\n",
    "plt.show()"
   ]
  },
  {
   "cell_type": "code",
   "execution_count": 21,
   "metadata": {
    "pycharm": {
     "name": "#%%\n"
    }
   },
   "outputs": [
    {
     "data": {
      "image/png": "[encoded data removed]",
      "text/plain": [
       "<Figure size 432x288 with 1 Axes>"
      ]
     },
     "metadata": {
      "needs_background": "light"
     },
     "output_type": "display_data"
    }
   ],
   "source": [
    "'''\n",
    "From this histogram it is revealed that most nodes have an in-degree that is less than 10\n",
    "'''\n",
    "degrees = [dG.out_degree(n) for n in dG.nodes if dG.out_degree(n) <  100]\n",
    "plt.hist(degrees)\n",
    "plt.show()"
   ]
  },
  {
   "cell_type": "code",
   "execution_count": 22,
   "metadata": {
    "pycharm": {
     "name": "#%%\n"
    }
   },
   "outputs": [
    {
     "data": {
      "image/png": "[encoded data removed]",
      "text/plain": [
       "<Figure size 432x288 with 1 Axes>"
      ]
     },
     "metadata": {
      "needs_background": "light"
     },
     "output_type": "display_data"
    }
   ],
   "source": [
    "'''\n",
    "From this histogram it is revealed that most nodes have an out-degree of 1\n",
    "'''\n",
    "degrees = [dG.out_degree(n) for n in dG.nodes if dG.out_degree(n) < 10]\n",
    "plt.hist(degrees)\n",
    "plt.show()"
   ]
  },
  {
   "cell_type": "code",
   "execution_count": 23,
   "metadata": {
    "pycharm": {
     "name": "#%%\n"
    }
   },
   "outputs": [
    {
     "name": "stdout",
     "output_type": "stream",
     "text": [
      "Nodes that have an out degree more than 1:\n",
      "8964\n",
      "Total number of nodes:\n",
      "73025\n"
     ]
    }
   ],
   "source": [
    "nodes_more_than1 = len([dG.out_degree(n) for n in dG.nodes if dG.out_degree(n) > 1])\n",
    "print(\"Nodes that have an out degree more than 1:\")\n",
    "print(nodes_more_than1)\n",
    "print(\"Total number of nodes:\")\n",
    "print(len(dG.nodes))"
   ]
  },
  {
   "cell_type": "code",
   "execution_count": 24,
   "metadata": {
    "pycharm": {
     "name": "#%%\n"
    }
   },
   "outputs": [],
   "source": [
    "#Pk\n",
    "def Pk(k):\n",
    "    \"\"\"\n",
    "    :param k: degree that is being tested\n",
    "    :return: degree distribution for out, in, all degrees\n",
    "    \"\"\"\n",
    "    Nk1 = len([dG.out_degree(n) for n in dG.nodes if dG.out_degree(n) == k])\n",
    "    Nk2 = len([dG.in_degree(n) for n in dG.nodes if dG.in_degree(n) == k])\n",
    "    Nk3 = len([dG.degree(n) for n in dG.nodes if dG.degree(n) == k])\n",
    "\n",
    "    return Nk1/len(dG.nodes), Nk2/len(dG.nodes), Nk3/len(dG.nodes)"
   ]
  },
  {
   "cell_type": "markdown",
   "metadata": {
    "pycharm": {
     "name": "#%% md\n"
    }
   },
   "source": [
    "## Sub Graphs\n",
    "Moving forward graph analyses was proving difficult to do on the entire graph. Hence we created a number of sub graphs\n",
    "that we thought make sense analysing.\n",
    "\n",
    "### Method\n",
    "We decided to not use the nx.subgraph() function because if given a number of nodes, not all edges connected to these\n",
    "nodes are represented in the new subgraph since these nodes where not part of the original nodes given to nx.subgraph.\n",
    "Hence the process we used for creating subgraphs goes as follows:\n",
    "* Choose a number of nodes N\n",
    "* Get all edges Es that have one one of their two nodes in N\n",
    "* Create an empty nx directed graph G\n",
    "* Add all edges in Es to G\n",
    "\n",
    "### Comments\n",
    "DG is a connected graph of 3 nodes with highest degree.\n",
    "\n",
    "VG is a random sample of 500 (minimum) nodes from dG. We opted to use the method listed above to avoid nodes with 0 degree.\n",
    "We will mainly use this graph for the Visualization section.\n",
    "\n",
    "Since VG is not a strongly connected graph some analyses was note performed on it."
   ]
  },
  {
   "cell_type": "code",
   "execution_count": 25,
   "metadata": {
    "pycharm": {
     "name": "#%%\n"
    }
   },
   "outputs": [
    {
     "name": "stdout",
     "output_type": "stream",
     "text": [
      "4269\n",
      "1824\n"
     ]
    }
   ],
   "source": [
    "large_degree_users = [n for n in dG.nodes if dG.degree(n) > 1700]\n",
    "\n",
    "new_edges = {k: edges.get(k) for k in edges if k[0] in large_degree_users or k[1] in large_degree_users}\n",
    "DG = nx.DiGraph()\n",
    "for edge in new_edges.keys():\n",
    "    DG.add_edge(edge[0], edge[1], weight=new_edges.get(edge))\n",
    "print(len(DG))\n",
    "\n",
    "random_X_nodes = [n for n in random.sample(list(dG.nodes), 300)]\n",
    "visual_edges = {k: edges.get(k) for k in edges if k[0] in random_X_nodes or k[1] in random_X_nodes}\n",
    "VG = nx.Graph()\n",
    "for edge in visual_edges.keys():\n",
    "    VG.add_edge(edge[0], edge[1], weight=visual_edges.get(edge))\n",
    "print(len(VG))"
   ]
  },
  {
   "cell_type": "markdown",
   "metadata": {
    "pycharm": {
     "name": "#%% md\n"
    }
   },
   "source": [
    "# Diameter\n",
    "The diameter of a graph is the longest shortest path. To show this one would have to get the all shortest paths in the\n",
    "graph and select the longest one."
   ]
  },
  {
   "cell_type": "code",
   "execution_count": 26,
   "metadata": {
    "pycharm": {
     "name": "#%%\n"
    }
   },
   "outputs": [
    {
     "name": "stdout",
     "output_type": "stream",
     "text": [
      "4\n"
     ]
    }
   ],
   "source": [
    "print(nx.diameter(DG.to_undirected()))"
   ]
  },
  {
   "cell_type": "markdown",
   "metadata": {},
   "source": [
    "# Average Path Length (APL)\n",
    "APL is calculated by summing all the shortest paths in the graph and then dividing the sum by the number of nodes squared\n",
    "minus the number of nodes."
   ]
  },
  {
   "cell_type": "code",
   "execution_count": 27,
   "metadata": {
    "pycharm": {
     "name": "#%%\n"
    }
   },
   "outputs": [
    {
     "name": "stdout",
     "output_type": "stream",
     "text": [
      "2.749035954373886\n"
     ]
    }
   ],
   "source": [
    "print(nx.average_shortest_path_length(DG.to_undirected()))"
   ]
  },
  {
   "cell_type": "markdown",
   "metadata": {},
   "source": [
    "# Global Clustering Coefficient\n",
    "The global clustering coefficient is calculated by counting all the clustering coefficients of each node and then dividing\n",
    "the total by the total number of nodes."
   ]
  },
  {
   "cell_type": "code",
   "execution_count": 28,
   "metadata": {
    "pycharm": {
     "name": "#%%\n"
    }
   },
   "outputs": [
    {
     "name": "stdout",
     "output_type": "stream",
     "text": [
      "0.00023424689622862497\n",
      "0.0005482456140350878\n"
     ]
    }
   ],
   "source": [
    "def get_global_clustering_coefficient(G):\n",
    "    global_clustering_coefficient = 0\n",
    "    for node in G.nodes():\n",
    "        neighbours=[n for n in nx.neighbors(G,node)]\n",
    "        n_neighbors=len(neighbours)\n",
    "        n_links=0\n",
    "        if n_neighbors>1:\n",
    "            for node1 in neighbours:\n",
    "                for node2 in neighbours:\n",
    "                    if G.has_edge(node1,node2):\n",
    "                        n_links+=1\n",
    "            n_links/=2 #because n_links is calculated twice\n",
    "            clustering_coefficient=n_links/(0.5*n_neighbors*(n_neighbors-1))\n",
    "            global_clustering_coefficient += clustering_coefficient\n",
    "    return global_clustering_coefficient/len(G) / global_clustering_coefficient\n",
    "print(get_global_clustering_coefficient(DG))\n",
    "print(get_global_clustering_coefficient(VG))"
   ]
  },
  {
   "cell_type": "markdown",
   "metadata": {},
   "source": [
    "# Compactness\n",
    "Compactness is the ratio between the number of existing edges, and the number of all the possible edges."
   ]
  },
  {
   "cell_type": "code",
   "execution_count": 29,
   "metadata": {
    "pycharm": {
     "name": "#%%\n"
    }
   },
   "outputs": [
    {
     "name": "stdout",
     "output_type": "stream",
     "text": [
      "0.0006242559038670058\n",
      "0.001080852845223316\n"
     ]
    }
   ],
   "source": [
    "def get_compactness(G):\n",
    "    E2 = 2 * len(G.edges)\n",
    "    N = len(G) * len(G) - len(G)\n",
    "    return E2/N\n",
    "\n",
    "print(get_compactness(DG))\n",
    "print(get_compactness(VG))"
   ]
  },
  {
   "cell_type": "markdown",
   "metadata": {},
   "source": [
    "## Comparing Global Clustering Coefficient(GCC) and Compactness (C)\n",
    "\n",
    "For both graphs GCC and C where low. This makes sense as we can see from the degree histograms that the majority of the\n",
    "nodes have a degree of only 2. Now this on its own does not rule out clustering as if in a graph only 3 nodes existed and\n",
    "all these three nodes where connected, their degree would all be 2 and be considered as a cluster. However when GCC is\n",
    "calculated it is shown that in fact clusters are rare. Similarly C shows us that most nodes do not connect to all the\n",
    "other nodes in the sub graphs. This makes sense given that it is unlikely that every employee at Enron would have a\n",
    "correspondence with every other employee at Enron."
   ]
  },
  {
   "cell_type": "markdown",
   "metadata": {
    "pycharm": {
     "name": "#%% md\n"
    }
   },
   "source": [
    "# Betwenness Centrality (BC)\n",
    "\n",
    "BC gives us the a metric to see how \"central\" a node is. The higher BC is for a node, the more the given node is connected\n",
    "in the graph. The node does not need to be connected directly to each node in the graph to have a high centrality as for\n",
    "BC the shortest paths are considered."
   ]
  },
  {
   "cell_type": "code",
   "execution_count": 30,
   "metadata": {
    "pycharm": {
     "name": "#%%\n"
    }
   },
   "outputs": [],
   "source": [
    "bcDG = nx.betweenness_centrality(DG)\n",
    "bcVG = nx.betweenness_centrality(VG)"
   ]
  },
  {
   "cell_type": "code",
   "execution_count": 37,
   "metadata": {
    "pycharm": {
     "name": "#%%\n"
    }
   },
   "outputs": [
    {
     "name": "stdout",
     "output_type": "stream",
     "text": [
      "[('jeff.dasovich@enron.com', 0.19194346527373427), ('kenneth.lay@enron.com', 0.18451210492826353), ('sally.beck@enron.com', 0.17323820573528803), ('tim.belden@enron.com', 0.0026347284698410205), ('david.delainey@enron.com', 0.0026347284698410205), ('brad.richter@enron.com', 0.0026347284698410205), ('vicki.sharp@enron.com', 0.0026347284698410205), ('dan.leff@enron.com', 0.0026347284698410205), ('j..kean@enron.com', 0.0026347284698410205), ('janet.dietrich@enron.com', 0.0026347284698410205)]\n",
      "*************************************************\n",
      "[('jeff.dasovich@enron.com', 0.19194346527373427), ('kenneth.lay@enron.com', 0.18451210492826353), ('sally.beck@enron.com', 0.17323820573528803), ('tim.belden@enron.com', 0.0026347284698410205), ('david.delainey@enron.com', 0.0026347284698410205), ('brad.richter@enron.com', 0.0026347284698410205), ('vicki.sharp@enron.com', 0.0026347284698410205), ('dan.leff@enron.com', 0.0026347284698410205), ('j..kean@enron.com', 0.0026347284698410205), ('janet.dietrich@enron.com', 0.0026347284698410205)]\n"
     ]
    }
   ],
   "source": [
    "sortedDG = sorted(bcDG.items(), key=lambda x: x[1], reverse=True)\n",
    "print(sortedDG[:10])\n",
    "print(\"*************************************************\")\n",
    "sortedVG = sorted(bcDG.items(), key=lambda x: x[1], reverse=True)\n",
    "print(sortedVG[:10])"
   ]
  },
  {
   "cell_type": "markdown",
   "metadata": {
    "pycharm": {
     "name": "#%% md\n"
    }
   },
   "source": [
    "# Page Rank (PR)\n",
    "PR is an algorithm used by google search that gives a higher value to nodes that have a high in degree. Apart from the\n",
    "raw in degree of a node, if a node x that has a high in degree is connected to node y, this will increase the PR of y\n",
    "further."
   ]
  },
  {
   "cell_type": "code",
   "execution_count": 32,
   "metadata": {
    "pycharm": {
     "name": "#%%\n"
    }
   },
   "outputs": [],
   "source": [
    "prDG = nx.pagerank(DG)\n",
    "prVG = nx.pagerank(VG)"
   ]
  },
  {
   "cell_type": "code",
   "execution_count": 39,
   "metadata": {
    "pycharm": {
     "name": "#%%\n"
    }
   },
   "outputs": [
    {
     "name": "stdout",
     "output_type": "stream",
     "text": [
      "[('jeff.dasovich@enron.com', 0.11321253287749657), ('sally.beck@enron.com', 0.0922445968659784), ('kenneth.lay@enron.com', 0.0778325847215284), ('richard.shapiro@enron.com', 0.0025438104823876473), ('paul.kaufman@enron.com', 0.0023192555734894717), ('susan.mara@enron.com', 0.002284831019618653), ('james.steffes@enron.com', 0.0021861472985223052), ('patti.thompson@enron.com', 0.002093555302568396), ('karen.denne@enron.com', 0.001952060332200736), ('skean@enron.com', 0.0018074772059432963)]\n",
      "*************************************************\n",
      "[('mark.mcconnell@enron.com', 0.04703433980929773), ('lcampbel@enron.com', 0.04430116982309873), ('cynthia.sandherr@enron.com', 0.03438227890095875), ('ami.chokshi@enron.com', 0.021219058707166536), ('christopher.watts@enron.com', 0.020688404480429787), ('hduncan@caem.org', 0.017903002024565507), ('hao@quinnemanuel.com', 0.016761996541362113), ('wootk224@bus.orst.edu', 0.016389885791736985), ('mark.elliott@enron.com', 0.014123154194011731), ('crystal.hyde@enron.com', 0.011059671127301543)]\n"
     ]
    }
   ],
   "source": [
    "\n",
    "sortedDG = sorted(prDG.items(), key=lambda x: x[1], reverse=True)\n",
    "print(sortedDG[:10])\n",
    "print(\"*************************************************\")\n",
    "sortedVG = sorted(prVG.items(), key=lambda x: x[1], reverse=True)\n",
    "print(sortedVG[:10])"
   ]
  },
  {
   "cell_type": "markdown",
   "metadata": {},
   "source": [
    "## Betweenness Centrality(BC) and Page Rank (PR)\n",
    "\n",
    "For the DG graph both BC and PR put \"jeff.dasovich@enron.com\" as the top most central node. However for VG the most\n",
    "important node according to PR is \"mark.mcconnell@enron.com\" and not jeff. This indicates that in the VG graph,\n",
    "Mark receives emails from more active users than Jeff, while Jeff is either connected to more users than Mark, or at the\n",
    "very least is more accessible. E.g If a new node starts sending emails to Enron employees with the goal of finding Jeff\n",
    "or Mark, the new user would ask nearby nodes to \"share\" their \"contacts\". This way Jeff should be found before Mark\n",
    "due to his high centrality."
   ]
  },
  {
   "cell_type": "markdown",
   "source": [
    "# Graph Visualization\n",
    "\n",
    "To visualize the graph we used the D3 Javascript library.\n",
    "## Method\n",
    "* First the graph is saved in json format in a way that D3 can easily understand.\n",
    "        **It is important that the source and target values are the index of the nodes they are linking.**\n",
    "* An html div element is created to show the D3 graph.\n",
    "* Links between the nodes have their stroke-width attribute set to the edges' weight\n",
    "* Nodes have their colour and size set to the nodes' size"
   ],
   "metadata": {
    "collapsed": false
   }
  },
  {
   "cell_type": "markdown",
   "metadata": {},
   "source": [
    "nodes = [{'name': str(i), 'size':  min(max(1, nx.degree(VG, i)), 50)}\n",
    "         for i in VG.nodes()]\n",
    "n = list(VG.nodes())\n",
    "links = []\n",
    "for u in VG.edges:\n",
    "    k = VG.edges.get(u)\n",
    "    links.append({'source': n.index(u[0]), 'target': n.index(u[1]), 'weight': max(1, VG.edges.get(u)['weight']/5)})\n",
    "\n",
    "\n",
    "with open('graph.json', 'w') as f:\n",
    "    json.dump({'nodes': nodes, 'links': links},\n",
    "              f, indent=4,)"
   ]
  },
  {
   "cell_type": "code",
   "execution_count": 34,
   "metadata": {
    "pycharm": {
     "name": "#%%\n"
    }
   },
   "outputs": [],
   "source": [
    "nodes = [{'name': str(i), 'size':  min(max(1, nx.degree(VG, i)), 50)}\n",
    "         for i in VG.nodes()]\n",
    "n = list(VG.nodes())\n",
    "links = []\n",
    "for u in VG.edges:\n",
    "    k = VG.edges.get(u)\n",
    "    links.append({'source': n.index(u[0]), 'target': n.index(u[1]), 'weight': max(1, VG.edges.get(u)['weight']/5)})\n",
    "\n",
    "\n",
    "with open('graph.json', 'w') as f:\n",
    "    json.dump({'nodes': nodes, 'links': links},\n",
    "              f, indent=4,)"
   ]
  },
  {
   "cell_type": "code",
   "execution_count": 35,
   "metadata": {},
   "outputs": [
    {
     "data": {
      "text/html": [
       "<div id=\"visualization\"></div>\n",
       "<style>\n",
       ".node {stroke: #stroke-width: 1.5px;}\n",
       ".link {stroke: #999; stroke-opacity: .6;}\n",
       "</style>\n"
      ],
      "text/plain": [
       "<IPython.core.display.HTML object>"
      ]
     },
     "metadata": {},
     "output_type": "display_data"
    }
   ],
   "source": [
    "%%html\n",
    "<div id=\"visualization\"></div>\n",
    "<style>\n",
    ".node {stroke: #stroke-width: 1.5px;}\n",
    ".link {stroke: #999; stroke-opacity: .6;}\n",
    "</style>\n"
   ]
  },
  {
   "cell_type": "code",
   "execution_count": 36,
   "metadata": {
    "pycharm": {
     "name": "#%%\n"
    }
   },
   "outputs": [
    {
     "data": {
      "application/javascript": [
       "\n",
       "require.config({\n",
       "    paths:\n",
       "    {\n",
       "        d3: \"https://d3js.org/d3.v3.min\"}\n",
       "    }\n",
       ");\n",
       "\n",
       "require([\"d3\"], function(d3) {\n",
       "    var width = 966.8, height = 2000;\n",
       "    var color = d3.scale.category10();\n",
       "    var force = d3.layout.force()\n",
       "                  .charge(-50)\n",
       "                  .linkDistance(30)\n",
       "                  .size([width, height])\n",
       "                  .start();\n",
       "\n",
       "    var svg = d3.select(\"#visualization\").select(\"svg\")\n",
       "    if (svg.empty()) {\n",
       "        svg = d3.select(\"#visualization\")\n",
       "                .append(\"svg\")\n",
       "                .attr(\"width\", width)\n",
       "                .attr(\"height\", height);\n",
       "    }\n",
       "\n",
       "    d3.json(\"graph.json\", function(error, graph) {\n",
       "        if (error) throw console.log(error);\n",
       "        force.nodes(graph.nodes)\n",
       "             .links(graph.links)\n",
       "             .start();\n",
       "\n",
       "        var link = svg.selectAll(\".link\")\n",
       "                      .data(graph.links)\n",
       "                      .enter().append(\"line\")\n",
       "                      .attr(\"stroke-width\", function(d) { return d.weight; })\n",
       "                      .attr(\"class\", \"link\");\n",
       "\n",
       "        var node = svg.selectAll(\".node\")\n",
       "                      .data(graph.nodes)\n",
       "                      .enter().append(\"circle\")\n",
       "                      .attr(\"class\", \"node\")\n",
       "                      .attr(\"r\", function(d) { return d.size })  // radius\n",
       "                      .call(force.drag)\n",
       "                      .style(\"fill\", \"white\")\n",
       "                      .attr(\"stroke\", function(d) { return color(d.size) })\n",
       "                      .attr(\"stroke-width\", 2)\n",
       "                      .attr(\"stroke-dasharray\", 0.5,0.5)\n",
       "                      .attr(\"stroke-linejoin\", \"round\");\n",
       "\n",
       "        node.append(\"title\")\n",
       "            .text(function(d) { return d.name; });\n",
       "\n",
       "        force.on(\"tick\", function() {\n",
       "          link.attr(\"x1\", function(d){return d.source.x})\n",
       "              .attr(\"y1\", function(d){return d.source.y})\n",
       "              .attr(\"x2\", function(d){return d.target.x})\n",
       "              .attr(\"y2\", function(d){return d.target.y});\n",
       "\n",
       "          node.attr(\"cx\", function(d){return d.x})\n",
       "              .attr(\"cy\", function(d){return d.y});\n",
       "        });\n",
       "    });\n",
       "});\n"
      ],
      "text/plain": [
       "<IPython.core.display.Javascript object>"
      ]
     },
     "metadata": {},
     "output_type": "display_data"
    }
   ],
   "source": [
    "%%javascript\n",
    "\n",
    "require.config({\n",
    "    paths:\n",
    "    {\n",
    "        d3: \"https://d3js.org/d3.v3.min\"}\n",
    "    }\n",
    ");\n",
    "\n",
    "require([\"d3\"], function(d3) {\n",
    "    var width = 966.8, height = 2000;\n",
    "    var color = d3.scale.category10();\n",
    "    var force = d3.layout.force()\n",
    "                  .charge(-50)\n",
    "                  .linkDistance(30)\n",
    "                  .size([width, height])\n",
    "                  .start();\n",
    "\n",
    "    var svg = d3.select(\"#visualization\").select(\"svg\")\n",
    "    if (svg.empty()) {\n",
    "        svg = d3.select(\"#visualization\")\n",
    "                .append(\"svg\")\n",
    "                .attr(\"width\", width)\n",
    "                .attr(\"height\", height);\n",
    "    }\n",
    "\n",
    "    d3.json(\"graph.json\", function(error, graph) {\n",
    "        if (error) throw console.log(error);\n",
    "        force.nodes(graph.nodes)\n",
    "             .links(graph.links)\n",
    "             .start();\n",
    "\n",
    "        var link = svg.selectAll(\".link\")\n",
    "                      .data(graph.links)\n",
    "                      .enter().append(\"line\")\n",
    "                      .attr(\"stroke-width\", function(d) { return d.weight; })\n",
    "                      .attr(\"class\", \"link\");\n",
    "\n",
    "        var node = svg.selectAll(\".node\")\n",
    "                      .data(graph.nodes)\n",
    "                      .enter().append(\"circle\")\n",
    "                      .attr(\"class\", \"node\")\n",
    "                      .attr(\"r\", function(d) { return d.size })  // radius\n",
    "                      .call(force.drag)\n",
    "                      .style(\"fill\", \"white\")\n",
    "                      .attr(\"stroke\", function(d) { return color(d.size) })\n",
    "                      .attr(\"stroke-width\", 2)\n",
    "                      .attr(\"stroke-dasharray\", 0.5,0.5)\n",
    "                      .attr(\"stroke-linejoin\", \"round\");\n",
    "\n",
    "        node.append(\"title\")\n",
    "            .text(function(d) { return d.name; });\n",
    "\n",
    "        force.on(\"tick\", function() {\n",
    "          link.attr(\"x1\", function(d){return d.source.x})\n",
    "              .attr(\"y1\", function(d){return d.source.y})\n",
    "              .attr(\"x2\", function(d){return d.target.x})\n",
    "              .attr(\"y2\", function(d){return d.target.y});\n",
    "\n",
    "          node.attr(\"cx\", function(d){return d.x})\n",
    "              .attr(\"cy\", function(d){return d.y});\n",
    "        });\n",
    "    });\n",
    "});"
   ]
  }
 ],
 "metadata": {
  "kernelspec": {
   "display_name": "Python 3",
   "language": "python",
   "name": "python3"
  },
  "language_info": {
   "codemirror_mode": {
    "name": "ipython",
    "version": 3
   },
   "file_extension": ".py",
   "mimetype": "text/x-python",
   "name": "python",
   "nbconvert_exporter": "python",
   "pygments_lexer": "ipython3",
   "version": "3.7.1"
  }
 },
 "nbformat": 4,
 "nbformat_minor": 1
}