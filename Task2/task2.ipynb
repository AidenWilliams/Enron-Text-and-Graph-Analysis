{
 "cells": [
  {
   "cell_type": "markdown",
   "metadata": {
    "collapsed": true,
    "pycharm": {
     "name": "#%% md\n"
    }
   },
   "source": [
    "blablabla"
   ]
  },
  {
   "cell_type": "code",
   "execution_count": null,
   "outputs": [],
   "source": [
    "# import the libraries used\n",
    "import os\n",
    "from email.parser import Parser\n",
    "from tqdm import tqdm\n",
    "import json\n",
    "import networkx as nx\n",
    "import matplotlib.pyplot as plt\n",
    "# set root directory of dataset\n",
    "dataroot = os.path.join('..', 'EnronEmails_Filtered', 'maildir')"
   ],
   "metadata": {
    "collapsed": false,
    "pycharm": {
     "name": "#%%\n"
    }
   }
  },
  {
   "cell_type": "code",
   "execution_count": null,
   "outputs": [],
   "source": [
    "def splitEmails(maillist: str, tag):\n",
    "    \"\"\"\n",
    "    Splits email of type tag [to,cc,bcc] addresses from maillist\n",
    "    :param maillist: email with lists of addresses\n",
    "    :param tag: tag specified to split from\n",
    "    :return: list of split emails, Duplicates are included\n",
    "    \"\"\"\n",
    "    split = maillist[tag]\n",
    "    split = split.replace(\"\\n\", \"\")\n",
    "    split = split.replace(\"\\t\", \"\")\n",
    "    split = split.replace(\" \", \"\")\n",
    "    return split.split(',')"
   ],
   "metadata": {
    "collapsed": false,
    "pycharm": {
     "name": "#%%\n"
    }
   }
  },
  {
   "cell_type": "code",
   "execution_count": null,
   "outputs": [],
   "source": [
    "def readMail(email):\n",
    "    \"\"\"\n",
    "    converts python email object into dict of dicts as written:\n",
    "        {subject: \"\", text: \"\", tos: [], ccs: [], bccs: []}\n",
    "    between all duplicates that existed in tos,ccs and bccs, are removed\n",
    "    :param email: email being read\n",
    "    :return: returns dict of dicts {subject: \"\", text: \"\", tos: [], cc: [], bcc: []}\n",
    "    \"\"\"\n",
    "    update = {'subject': email['subject'], 'text': email.get_payload(), 'tos': [], 'ccs': [], 'bccs': []}\n",
    "    if email['to']:\n",
    "        update['tos'] = list(set(splitEmails(email, 'to')))\n",
    "    if email['cc']:\n",
    "        update['ccs'] = list(set(splitEmails(email, 'cc')))\n",
    "        # This for if is O(n^2) it slows the parsing by a bit but it does remove duplicates in cc and bcc\n",
    "        # Still takes around a minute\n",
    "        for a in update['ccs']:\n",
    "            if a in update['tos']:\n",
    "                update['ccs'].remove(a)\n",
    "    if email['bcc']:\n",
    "        update['bccs'] = list(set(splitEmails(email, 'bcc')))\n",
    "        for a in update['bccs']:\n",
    "            if a in update['ccs']:\n",
    "                update['bccs'].remove(a)\n",
    "    return update"
   ],
   "metadata": {
    "collapsed": false,
    "pycharm": {
     "name": "#%%\n"
    }
   }
  },
  {
   "cell_type": "code",
   "execution_count": null,
   "outputs": [],
   "source": [
    "def addMail(dic, emailDir):\n",
    "    \"\"\"\n",
    "    Add email from emailDir(a MIME file) into dic\n",
    "    :param dic: dict to add email to\n",
    "    :param emailDir: file from which the email are being read\n",
    "    :return: updated dic\n",
    "    \"\"\"\n",
    "    with open(emailDir, \"r\", encoding='utf-8', errors='ignore') as f:\n",
    "        email = Parser().parsestr(f.read())\n",
    "        key = email['from']\n",
    "        if key in dic:\n",
    "            value = dic.get(email['from'])\n",
    "            value.append(readMail(email))\n",
    "            dic.update({key: value})\n",
    "        else:\n",
    "            value = [readMail(email)]\n",
    "            dic.update({key: value})"
   ],
   "metadata": {
    "collapsed": false,
    "pycharm": {
     "name": "#%%\n"
    }
   }
  },
  {
   "cell_type": "code",
   "execution_count": null,
   "outputs": [],
   "source": [
    "def addAll(dic, emailDir):\n",
    "    \"\"\"\n",
    "    add all emails in emailDir(MIME file or directory) into dic\n",
    "    :param dic: dict to add emails to\n",
    "    :param emailDir: (MIME file or directory) from which the emails are being read\n",
    "    :return: updated dic\n",
    "    \"\"\"\n",
    "    if not os.path.isfile(emailDir):\n",
    "        for file in os.listdir(emailDir):\n",
    "            addAll(dic, os.path.join(emailDir, file))\n",
    "    else:\n",
    "        addMail(dic, emailDir)"
   ],
   "metadata": {
    "collapsed": false,
    "pycharm": {
     "name": "#%%\n"
    }
   }
  },
  {
   "cell_type": "code",
   "execution_count": null,
   "outputs": [],
   "source": [
    "def loadData(dic, root):\n",
    "    \"\"\"\n",
    "    loads data from root into dic, tqdm progress bar indicates progress\n",
    "    :param dic: dictionary that will be loaded with emails\n",
    "    :param root: root directory\n",
    "    :return: dic filled with data from root\n",
    "    \"\"\"\n",
    "    for user in tqdm(os.listdir(root)):\n",
    "        userPath = os.path.join(root, user)\n",
    "        for folder in os.listdir(userPath):\n",
    "            folderPath = os.path.join(root, user, folder)\n",
    "            if os.path.isfile(folderPath):\n",
    "                addMail(dic, folderPath)\n",
    "                continue\n",
    "\n",
    "            for file in os.listdir(folderPath):\n",
    "                addAll(dic, os.path.join(dataroot, user, folder, file))"
   ],
   "metadata": {
    "collapsed": false,
    "pycharm": {
     "name": "#%%\n"
    }
   }
  },
  {
   "cell_type": "code",
   "execution_count": null,
   "outputs": [],
   "source": [
    "def _saveToFile(data, path):\n",
    "    \"\"\"\n",
    "    ethan code than code\n",
    "    :param data:\n",
    "    :param path:\n",
    "    :return:\n",
    "    \"\"\"\n",
    "    print('Saving')\n",
    "    with open(path, 'w') as fp:\n",
    "        json.dump(data, fp, indent=4)"
   ],
   "metadata": {
    "collapsed": false,
    "pycharm": {
     "name": "#%%\n"
    }
   }
  },
  {
   "cell_type": "code",
   "execution_count": null,
   "outputs": [],
   "source": [
    "class Edge:\n",
    "    \"\"\"\n",
    "    Simple edge class that represents and edge with weight between 2 aliases\n",
    "    \"\"\"\n",
    "    def __init__(self, alias1: str, alias2: str, weight=0):\n",
    "        self.alias1 = alias1\n",
    "        self.alias2 = alias2\n",
    "        self.weight = weight"
   ],
   "metadata": {
    "collapsed": false,
    "pycharm": {
     "name": "#%%\n"
    }
   }
  },
  {
   "cell_type": "code",
   "execution_count": null,
   "outputs": [],
   "source": [
    "edges = {}\n",
    "def addEdgeToDict(frm, to):\n",
    "    \"\"\"\n",
    "    Adds edge from -> to to dictionary, incrementing weight if the tuple(frm, to) already exists in edges\n",
    "    :param frm: from user\n",
    "    :param to: to user\n",
    "    :return: dictionary of edges key=tuple(frm,to):value=weight\n",
    "    \"\"\"\n",
    "    key = tuple([frm, to])\n",
    "    if key in edges:\n",
    "        w = edges.get(key)\n",
    "        w += 1\n",
    "        edges[key] = w\n",
    "    else:\n",
    "        edges.update({key: 1})"
   ],
   "metadata": {
    "collapsed": false,
    "pycharm": {
     "name": "#%%\n"
    }
   }
  },
  {
   "cell_type": "markdown",
   "source": [
    "load the intermediary file into myDict to avoid parsing through dataset each time\n",
    "or if not created, create the intermediary file"
   ],
   "metadata": {
    "collapsed": false,
    "pycharm": {
     "name": "#%% md\n"
    }
   }
  },
  {
   "cell_type": "code",
   "execution_count": null,
   "outputs": [],
   "source": [
    "myDict = {}\n",
    "path = \"../intermediary/file.json\"\n",
    "if os.path.isfile(path) and os.access(path, os.R_OK):\n",
    "    print(\"Docs file found!\")\n",
    "    print('Reading...')\n",
    "    with open(path, 'r') as f:\n",
    "        myDict = json.load(f)\n",
    "    print(\"...done!\")\n",
    "\n",
    "else:\n",
    "    print(\"Either file is missing or is not readable, creating file...\")\n",
    "    loadData(myDict, dataroot)\n",
    "    _saveToFile(myDict, path=path)"
   ],
   "metadata": {
    "collapsed": false,
    "pycharm": {
     "name": "#%%\n"
    }
   }
  },
  {
   "cell_type": "markdown",
   "source": [
    "build networkx directed graph with edges"
   ],
   "metadata": {
    "collapsed": false,
    "pycharm": {
     "name": "#%% md\n"
    }
   }
  },
  {
   "cell_type": "code",
   "execution_count": null,
   "outputs": [],
   "source": [
    "G = nx.DiGraph()\n",
    "print(\"\\nBuilding Edges\")\n",
    "# weight dict\n",
    "for _from in tqdm(myDict):\n",
    "    emails = myDict.get(_from)\n",
    "    for e in emails:\n",
    "        for t in e['tos']:\n",
    "            addEdgeToDict(_from, t)\n",
    "        for c in e['ccs']:\n",
    "            addEdgeToDict(_from, c)\n",
    "        for b in e['bccs']:\n",
    "            addEdgeToDict(_from, b)\n",
    "\n",
    "for edge in tqdm(edges.keys()):\n",
    "    G.add_edge(edge[0], edge[1], weight=edges.get(edge))\n",
    "\n",
    "print(\"\\nDone.\")"
   ],
   "metadata": {
    "collapsed": false,
    "pycharm": {
     "name": "#%%\n"
    }
   }
  },
  {
   "cell_type": "code",
   "execution_count": 4,
   "outputs": [],
   "source": [
    "def plot_degree_dist(graph):\n",
    "    degrees = [graph.degree(n) for n in graph.nodes]\n",
    "    plt.hist(degrees)\n",
    "    plt.show()"
   ],
   "metadata": {
    "collapsed": false,
    "pycharm": {
     "name": "#%%\n"
    }
   }
  },
  {
   "cell_type": "code",
   "execution_count": 5,
   "outputs": [
    {
     "data": {
      "text/plain": "<Figure size 432x288 with 1 Axes>",
      "image/png": "[encoded data removed]"
     },
     "metadata": {
      "needs_background": "light"
     },
     "output_type": "display_data"
    }
   ],
   "source": [
    "plot_degree_dist(G)\n"
   ],
   "metadata": {
    "collapsed": false,
    "pycharm": {
     "name": "#%%\n"
    }
   }
  }
 ],
 "metadata": {
  "kernelspec": {
   "display_name": "Python 3",
   "language": "python",
   "name": "python3"
  },
  "language_info": {
   "codemirror_mode": {
    "name": "ipython",
    "version": 2
   },
   "file_extension": ".py",
   "mimetype": "text/x-python",
   "name": "python",
   "nbconvert_exporter": "python",
   "pygments_lexer": "ipython2",
   "version": "2.7.6"
  }
 },
 "nbformat": 4,
 "nbformat_minor": 0
}